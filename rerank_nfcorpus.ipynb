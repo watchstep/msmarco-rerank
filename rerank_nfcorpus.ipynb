{
 "cells": [
  {
   "cell_type": "code",
   "execution_count": 58,
   "metadata": {},
   "outputs": [],
   "source": [
    "import os\n",
    "import random\n",
    "import json\n",
    "import requests\n",
    "import io\n",
    "from zipfile import ZipFile\n",
    "import argparse\n",
    "import multiprocessing\n",
    "\n",
    "import numpy as np\n",
    "import pandas as pd\n",
    "\n",
    "import torch\n",
    "import torch.nn as nn\n",
    "import torch.nn.functional as F\n",
    "\n",
    "import pyserini\n",
    "from pyserini.search import SimpleSearcher\n",
    "from pyserini.dsearch import SimpleDenseSearcher\n",
    "\n",
    "import transformers\n",
    "# from transformers import set_seed\n",
    "# set_seed(42)\n",
    "\n",
    "from peft import LoraConfig\n",
    "from transformers import (AutoTokenizer, \n",
    "                          AutoModelForCausalLM, \n",
    "                          BitsAndBytesConfig)"
   ]
  },
  {
   "cell_type": "code",
   "execution_count": 4,
   "metadata": {},
   "outputs": [],
   "source": [
    "parser = argparse.ArgumentParser(description='Reranking with OPT & NFCorpus')\n",
    "\n",
    "parser.add_argument('--model_name', type=str, default='facebook/opt-125m')\n",
    "parser.add_argument('--dataset', type=str, default='nfcorpus')\n",
    "parser.add_argument('--data_path', type=str, default='./collections/')\n",
    "parser.add_argument('--seed',type=int, default=42)\n",
    "parser.add_argument('--batch_size', type=int, default=256)\n",
    "parser.add_argument('--max_len', type=int, default=40)\n",
    "parser.add_argument('--lr', type=float, default=1e-5)\n",
    "parser.add_argument('--max_epochs', type=int, default=10)\n",
    "parser.add_argument('--use_cuda', type=bool, default=False)\n",
    "parser.add_argument('--k', type=int, default=10, help='top k')\n",
    "parser.add_argument('--k1', type=float, default=1.5, help='BM25 parameter')\n",
    "parser.add_argument('--b', type=float, default=0.75, help='BM25 parameter')\n",
    "\n",
    "parser.add_argument\n",
    "\n",
    "config = parser.parse_args([])"
   ]
  },
  {
   "cell_type": "markdown",
   "metadata": {},
   "source": [
    "### Prepare NFCorpus"
   ]
  },
  {
   "cell_type": "code",
   "execution_count": 5,
   "metadata": {},
   "outputs": [],
   "source": [
    "dataset_path = os.path.join(config.data_path, config.dataset)\n",
    "nfcorpus_url = 'https://public.ukp.informatik.tu-darmstadt.de/thakur/BEIR/datasets/nfcorpus.zip'\n",
    "tsv_path = os.path.join(dataset_path, config.dataset, 'queries.tsv')\n",
    "queries_jsonl_path = os.path.join(dataset_path, config.dataset, 'queries.jsonl')\n",
    "corpus_jsonl_path = os.path.join(dataset_path, config.dataset, 'corpus.jsonl')\n",
    "pyserini_jsonl_path = os.path.join(dataset_path, 'pyserini-corpus', 'corpus.jsonl')"
   ]
  },
  {
   "cell_type": "code",
   "execution_count": 5,
   "metadata": {},
   "outputs": [],
   "source": [
    "# download data\n",
    "if not os.path.exists(dataset_path):\n",
    "    os.mkdir(dataset_path)\n",
    "\n",
    "response = requests.get(nfcorpus_url, stream=True)\n",
    "file = ZipFile(io.BytesIO(response.content))\n",
    "file.extractall(path=dataset_path)"
   ]
  },
  {
   "cell_type": "code",
   "execution_count": 8,
   "metadata": {},
   "outputs": [],
   "source": [
    "with open(tsv_path, 'w') as out:\n",
    "    with open(queries_jsonl_path, 'r') as f:\n",
    "        for line in f:\n",
    "            l = json.loads(line)\n",
    "            out.write(l['_id'] + '\\t' + l['text'] + '\\n')"
   ]
  },
  {
   "cell_type": "code",
   "execution_count": 11,
   "metadata": {},
   "outputs": [],
   "source": [
    "# https://github.com/castorini/pyserini/blob/e371ed3661e90db6b797290493d973cb6c089c43/docs/conceptual-framework2.md\n",
    "with open(pyserini_jsonl_path, 'w') as out:\n",
    "    with open(corpus_jsonl_path, 'r') as f:\n",
    "        for line in f:\n",
    "            l = json.loads(line)\n",
    "            s = json.dumps({'id': l['_id'], 'contents': l['title'] + ' ' + l['text']})\n",
    "            out.write(s + '\\n')"
   ]
  },
  {
   "cell_type": "markdown",
   "metadata": {},
   "source": [
    "### Sparse Indexing & BM25"
   ]
  },
  {
   "cell_type": "code",
   "execution_count": 121,
   "metadata": {},
   "outputs": [],
   "source": [
    "from typing import List\n",
    "from pyserini.search.lucene import LuceneSearcher \n",
    "\n",
    "class BM25Retriever:\n",
    "    def __init__(self, jsonl_path, index_path, k1=1.5, b=0.75):\n",
    "        self.jsonl_path = jsonl_path\n",
    "        if not os.path.exists(index_path):\n",
    "            self.build_sparse_index(jsonl_path, index_path)\n",
    "        self.searcher = LuceneSearcher(index_path)\n",
    "        self.searcher.set_bm25(k1=k1, b=b)\n",
    "        # self.searcher.set_language()\n",
    "    \n",
    "    def build_sparse_index(self, jsonl_path, index_path):\n",
    "        execute_code = os.system('python -m pyserini.index.lucene ' + \n",
    "                                 '--collection JsonCollection ' +\n",
    "                                 f'--input {jsonl_path} ' +\n",
    "                                 f'--index {index_path} ' +\n",
    "                                 '--generator DefaultLuceneDocumentGenerator ' +\n",
    "                                 '--threads 1 --storeRaw')\n",
    "        if execute_code != 0:\n",
    "            raise Exception('Indexing Failed!')\n",
    "        else:\n",
    "            print('Indexing Success!')\n",
    "            \n",
    "    def _get_results(self, qid, hits:List):\n",
    "        results = []\n",
    "        \n",
    "        for i, hit in enumerate(hits):\n",
    "            docid = hit.docid\n",
    "            content = json.loads(hits[i].raw)['contents']\n",
    "            bm25_score = hit.score\n",
    "            result = {'rank': i+1,\n",
    "                      'qid': qid,\n",
    "                      'docid': docid, \n",
    "                      'score': bm25_score,\n",
    "                      'content': content}\n",
    "            results.append(result)\n",
    "            \n",
    "        return results\n",
    "    \n",
    "    def search(self, qid, query_text:str, k:int=10):\n",
    "        search_results = {}\n",
    "        hits = self.searcher.search(query_text, k=k,)\n",
    "        search_results['query'] = query_text\n",
    "        search_results['hits']  = self._get_results(qid, hits)\n",
    "        \n",
    "        return search_results\n",
    "    \n",
    "    def batch_search(self, qids, query_texts: List[str], k:int=10):\n",
    "        query_dict = dict(zip(qids, query_texts))\n",
    "        batch_hits = self.searcher.batch_search(query_texts, qids, k=k, threads=multiprocessing.cpu_count())\n",
    "        bsearch_results = []\n",
    "        bsearch_items = {}\n",
    "\n",
    "        for qid, hits in batch_hits.items():\n",
    "            bsearch_items['query'] = query_dict[qid]\n",
    "            bsearch_items['hits'] = self._get_results(qid, hits)\n",
    "            bsearch_results.append(bsearch_items)\n",
    "            bsearch_items = {} \n",
    "       \n",
    "        return bsearch_results"
   ]
  },
  {
   "cell_type": "code",
   "execution_count": 122,
   "metadata": {},
   "outputs": [],
   "source": [
    "index_path = os.path.join('./indexes', 'lucene-index.nfcorpus')\n",
    "bm25_retriever = BM25Retriever('collections/nfcorpus/pyserini-corpus/', index_path)"
   ]
  },
  {
   "cell_type": "code",
   "execution_count": 136,
   "metadata": {},
   "outputs": [],
   "source": [
    "def read_jsonl(jsonl_path:str):\n",
    "    with open(jsonl_path, 'r') as f:\n",
    "        lines = f.readlines()\n",
    "        result = [json.loads(line) for line in lines]\n",
    "        return result"
   ]
  },
  {
   "cell_type": "code",
   "execution_count": 124,
   "metadata": {},
   "outputs": [],
   "source": [
    "queries = read_jsonl(queries_jsonl_path)\n",
    "results = bm25_retriever.batch_search(qids=[query['_id'] for query in queries], query_texts=[query['text'] for query in queries])"
   ]
  },
  {
   "cell_type": "code",
   "execution_count": 178,
   "metadata": {},
   "outputs": [],
   "source": [
    "json.dump(results, open('./retrieved/bm25-nfcorpus.jsonl','w'))"
   ]
  },
  {
   "cell_type": "markdown",
   "metadata": {},
   "source": [
    "### Rerank"
   ]
  },
  {
   "cell_type": "code",
   "execution_count": null,
   "metadata": {},
   "outputs": [],
   "source": [
    "# class QueryDocumentBatch:\n",
    "#     query: Query\n",
    "#     documents: List[Text]\n",
    "#     output: Optional[TokenizerReturnType] = None\n",
    "\n",
    "#     def __len__(self):\n",
    "#         return len(self.documents)"
   ]
  },
  {
   "cell_type": "code",
   "execution_count": 190,
   "metadata": {},
   "outputs": [
    {
     "data": {
      "text/plain": [
       "['Advanced Glycation End Products in Foods and a Practical Guide to Their Reduction in the Diet Modern diets are largely heat-processed and as a result contain high levels of advanced glycation end products (AGEs). Dietary advanced glycation end products (dAGEs) are known to contribute to increased oxidant stress and inflammation, which are linked to the recent epidemics of diabetes and cardiovascular disease. This report significantly expands the available dAGE database, validates the dAGE testing methodology, compares cooking procedures and inhibitory agents on new dAGE formation, and introduces practical approaches for reducing dAGE consumption in daily life. Based on the findings, dry heat promotes new dAGE formation by >10- to 100-fold above the uncooked state across food categories. Animal-derived foods that are high in fat and protein are generally AGE-rich and prone to new AGE formation during cooking. In contrast, carbohydrate-rich foods such as vegetables, fruits, whole grains, and milk contain relatively few AGEs, even after cooking. The formation of new dAGEs during cooking was prevented by the AGE inhibitory compound aminoguanidine and significantly reduced by cooking with moist heat, using shorter cooking times, cooking at lower temperatures, and by use of acidic ingredients such as lemon juice or vinegar. The new dAGE database provides a valuable instrument for estimating dAGE intake and for guiding food choices to reduce dAGE intake.',\n",
       " 'Dietary Advanced Glycation End Products and Aging Advanced glycation end products (AGEs) are a heterogeneous, complex group of compounds that are formed when reducing sugar reacts in a non-enzymatic way with amino acids in proteins and other macromolecules. This occurs both exogenously (in food) and endogenously (in humans) with greater concentrations found in older adults. While higher AGEs occur in both healthy older adults and those with chronic diseases, research is progressing to both quantify AGEs in food and in people, and to identify mechanisms that would explain why some human tissues are damaged, and others are not. In the last twenty years, there has been increased evidence that AGEs could be implicated in the development of chronic degenerative diseases of aging, such as cardiovascular disease, Alzheimer’s disease and with complications of diabetes mellitus. Results of several studies in animal models and humans show that the restriction of dietary AGEs has positive effects on wound healing, insulin resistance and cardiovascular diseases. Recently, the effect of restriction in AGEs intake has been reported to increase the lifespan in animal models. This paper will summarize the work that has been published for both food AGEs and in vivo AGEs and their relation with aging, as well as provide suggestions for future research.',\n",
       " 'Advanced glycation end products as biomarkers and gerontotoxins - A basis to explore methylglyoxal-lowering agents for Alzheimer\\'s disease? Alzheimer\\'s disease (AD) is the most common dementing disorder of late life. Although there might be various different triggering events in the early stages of the disease, they seem to converge on a few characteristic final pathways in the late stages, characterized by inflammation and neurodegeneration. In this review, we put forward the hypothesis that advanced glycation end products (AGEs) and their precursors, including methylglyoxal, are both biomarkers and causative agents (\"gerontotoxins\") characteristic for this disorder. Accumulation of AGEs is a normal feature of aging, but is accelerated in AD, where AGEs can be detected in amyloid plaques and neurofibrillary tangles. AGE modification may explain many of the neuropathological and biochemical features of AD such as extensive protein cross-linking, inflammation, oxidative stress and neuronal cell death. We suggest that methylglyoxal is one of the major carbonyl species responsible for the formation of AGEs. We propose that one promising pharmacological approach to prevent the formation of AGEs would be to lower the methylglyoxal concentration. This can be achieved, for example, by decreasing the concentration of methylglyoxal precursors such as d-glyceraldehyde-3-phosphate by allowing a higher flux through the pentose phosphate pathway or by increasing methylglyoxal detoxification through the glyoxalase system. Alternatively, methylglyoxal could be scavenged by various types of carbonyl scavengers. Copyright © 2010 Elsevier Inc. All rights reserved.',\n",
       " 'Advanced glycation end product level, diabetes, and accelerated cognitive aging Objective: Several studies report that diabetes increases risk of cognitive impairment; some have hypothesized that advanced glycation end products (AGEs) underlie this association. AGEs are cross-linked products that result from reactions between glucose and proteins. Little is known about the association between peripheral AGE concentration and cognitive aging. Methods: We prospectively studied 920 elders without dementia, 495 with diabetes and 425 with normal glucose (mean age 74.0 years). Using mixed models, we examined baseline AGE concentration, measured with urine pentosidine and analyzed as tertile, and performance on the Modified Mini-Mental State Examination (3MS) and Digit Symbol Substitution Test (DSST) at baseline and repeatedly over 9 years. Incident cognitive impairment (a decline of >1.0 SD on each test) was analyzed with logistic regression. Results: Older adults with high pentosidine level had worse baseline DSST score (p=0.05) but not different 3MS score (p=0.32). On both tests, there was a more pronounced 9-year decline in those with high and mid pentosidine level compared to those in the lowest tertile (3MS 7.0, 5.4, and 2.5 point decline, p overall <0.001; DSST 5.9, 7.4, and 4.5 point decline, p=0.03). Incident cognitive impairment was higher in those with high or mid pentosidine level than those in the lowest tertile (3MS: 24% vs 17%, odds ratio=1.55; 95% confidence interval 1.07–2.26; DSST: 31% vs 22%, odds ratio=1.62; 95% confidence interval 1.13–2.33). There was no interaction between pentosidine level, diabetes status, and cognitive decline. Multivariate adjustment for age, sex, race, education, hypertension, cardiovascular disease, estimated glomerular filtration rate, and diabetes diminished results somewhat but overall patterns remained similar. Conclusion: High peripheral AGE level is associated with greater cognitive decline in older adults with and without diabetes.',\n",
       " \"Plant-derived health: the effects of turmeric and curcuminoids. Plants contain numerous polyphenols, which have been shown to reduce inflammation and hereby to increase resistance to disease. Examples of such polyphenols are isothiocyanates in cabbage and broccoli, epigallocatechin in green tee, capsaicin in chili peppers, chalones, rutin and naringenin in apples, resveratrol in red wine and fresh peanuts and curcumin/curcuminoids in turmeric. Most diseases are maintained by a sustained discreet but obvious increased systemic inflammation. Many studies suggest that the effect of treatment can be improved by a combination of restriction in intake of proinflammatory molecules such as advanced glycation end products (AGE), advanced lipoperoxidation end products (ALE), and rich supply of antiinflammatory molecules such as plant polyphenols. To the polyphenols with a bulk of experimental documentation belong the curcuminoid family and especially its main ingredient, curcumin. This review summarizes the present knowledge about these turmericderived ingredients, which have proven to be strong antioxidants and inhibitors of cyclooxigenase-2 (COX-2), lipoxygenase (LOX) and nuclear factor kappa B (NF-kappaB) but also AGE. A plethora of clinical effects are reported in various experimental diseases, but clinical studies in humans are few. It is suggested that supply of polyphenols and particularly curcuminoids might be value as complement to pharmaceutical treatment, but also prebiotic treatment, in conditions proven to be rather therapy-resistant such as Crohn's, long-stayed patients in intensive care units, but also in conditions such as cancer, liver cirrhosis, chronic renal disease, chronic obstructive lung disease, diabetes and Alzheimer's disease.\",\n",
       " 'Serum concentration of an inflammatory glycotoxin, methylglyoxal, is associated with increased cognitive decline in elderly individuals Background Advanced glycations end products increase oxidant stress, inflammation, and neurotoxicity. Serum levels are increased in diabetes and aging. We examined the relationship between serum methylglyoxal derivatives (sMG), and cognitive decline, in 267 non-demented elderly. Methods Tobit mixed regression models assessed the association of baseline sMG with cognitive decline in the Mini Mental State Exam (MMSE) over time, controlling for sociodemographic factors (age, sex, and years of education), cardiovascular risk factors (diabetes and presence of an APOE4 allele), and kidney function. sMG was assessed by ELISA. Results The fully adjusted model showed an annual decline of 0.26 MMSE points per unit increase in baseline sMG (p=0.03). Significance was unchanged as additional risk factors were added to the model. The interactions of sMG with diabetes, sex, age, kidney function, and APOE4 genotype were not significant. Conclusions Higher levels of baseline sMG were associated with a faster rate of cognitive decline, after adjusting for several sociodemographic and clinical characteristics. This relationship did not differ by sex, APOE4 genotype, or diabetes status suggesting its generality. Since subjects were cognitively normal at the beginning of the study, elevated sMG may be indicative of brain cell injury initiated before clinically evident cognitive compromise.',\n",
       " 'Sweet bing cherries lower circulating concentrations of markers for chronic inflammatory diseases in healthy humans. A limited number of studies have demonstrated that some modulators of inflammation can be altered by the consumption of sweet cherries. We have taken a proteomics approach to determine the effects of dietary cherries on targeted gene expression. The purpose was then to determine changes caused by cherry consumption in the plasma concentrations of multiple biomarkers for several chronic inflammatory diseases in healthy humans with modestly elevated C-reactive protein (CRP; range, 1-14 mg/L; mean, 3.5 mg/L; normal, <1.0 mg/L). Eighteen men and women (45-61 y) supplemented their diets with Bing sweet cherries (280 g/d) for 28 d. Fasting blood samples were taken before the start of consuming the cherries (study d 7), 28 d after the initiation of cherry supplementation (d 35), and 28 d after the discontinuation (d 63). Of the 89 biomarkers assessed, cherry consumption for 28 d altered concentrations of 9, did not change those of 67, and the other 13 were below the detection limits. Cherry consumption decreased (P < 0.05) plasma concentrations of extracellular newly identified ligand for the receptor for advanced glycation end products (29.0%), CRP (20.1%), ferritin (20.3%), plasminogen activator inhibitor-1 (19.9%), endothelin-1 (13.7%), epidermal growth factor (13.2%), and IL-18 (8.1%) and increased that of IL-1 receptor antagonist (27.9%) compared with corresponding values on study d 7. The ferritin concentration continued to decrease between d 35 and 63 and it was significantly lower on d 63 than on d 7. Because the participants in this study were healthy, no clinical pathology end points were measured. However, results from the present study demonstrate that cherry consumption selectively reduced several biomarkers associated with inflammatory diseases.',\n",
       " 'Inflammatory mediators are induced by dietary glycotoxins, a major risk factor for diabetic angiopathy Diet is a major environmental source of proinflammatory AGEs (heat-generated advanced glycation end products); its impact in humans remains unclear. We explored the effects of two equivalent diets, one regular (high AGE, H-AGE) and the other with 5-fold lower AGE (L-AGE) content on inflammatory mediators of 24 diabetic subjects: 11 in a 2-week crossover and 13 in a 6-week study. After 2 weeks on H-AGE, serum AGEs increased by 64.5% (P = 0.02) and on L-AGE decreased by 30% (P = 0.02). The mononuclear cell tumor necrosis factor-α/β-actin mRNA ratio was 1.4 ± 0.5 on H-AGE and 0.9 ± 0.5 on L-AGE (P = 0.05), whereas serum vascular adhesion molecule-1 was 1,108 ± 429 and 698 ± 347 ng/ml (P = 0.01) on L- and H-AGE, respectively. After 6 weeks, peripheral blood mononuclear cell tumor necrosis factor-α rose by 86.3% (P = 0.006) and declined by 20% (P, not significant) on H- or L-AGE diet, respectively; C-reactive protein increased by 35% on H-AGE and decreased by 20% on L-AGE (P = 0.014), and vascular adhesion molecule-1 declined by 20% on L-AGE (P < 0.01) and increased by 4% on H-AGE. Serum AGEs were increased by 28.2% on H-AGE (P = 0.06) and reduced by 40% on L-AGE (P = 0.02), whereas AGE low density lipoprotein was increased by 32% on H-AGE and reduced by 33% on L-AGE diet (P < 0.05). Thus in diabetes, environmental (dietary) AGEs promote inflammatory mediators, leading to tissue injury. Restriction of dietary AGEs suppresses these effects.',\n",
       " 'Meat consumption, diabetes, and its complications. Several prospective studies have reported that risk of type 2 diabetes (T2DM) is elevated in meat consumers, especially when processed meats are consumed. Elevated risks of coronary heart disease (CHD) and stroke in meat consumers have also been reported. In this overview, the evidence regarding meat consumption and the risk of diabetes, both type 1 diabetes (T1DM) and T2DM and their macro- and microvascular complications, is reviewed. For T2DM, we performed a new meta-analysis including publications up to October 2012. For T1DM, only a few studies have reported increased risks for meat consumers or for high intake of saturated fatty acids and nitrates and nitrites. For T2DM, CHD, and stroke, the evidence is strongest. Per 100 g of total meat, the pooled relative risk (RR) for T2DM is 1.15 (95 % CI 1.07-1.24), for (unprocessed) red meat 1.13 (95 % CI 1.03-1.23), and for poultry 1.04 (95 % CI 0.99-1.33); per 50 g of processed meat, the pooled RR is 1.32 (95 % CI 1.19-1.48). Hence, the strongest association regarding T2DM is observed for processed (red) meat. A similar observation has been made for CHD. For stroke, however, a recent meta-analysis shows moderately elevated risks for meat consumers, for processed as well as for fresh meats. For the microvascular complications of diabetes, few prospective data were available, but suggestions for elevated risks can be derived from findings on hyperglycemia and hypertension. The results are discussed in the light of the typical nutrients and other compounds present in meat--that is, saturated and trans fatty acids, dietary cholesterol, protein and amino acids, heme-iron, sodium, nitrites and nitrosamines, and advanced glycation end products. In light of these findings, a diet moderate to low in red meat, unprocessed and lean, and prepared at moderate temperatures is probably the best choice from the public health point of view.',\n",
       " 'Orally absorbed reactive glycation products (glycotoxins): An environmental risk factor in diabetic\\u2009nephropathy Endogenous advanced glycation endproducts (AGEs) include chemically crosslinking species (glycotoxins) that contribute to the vascular and renal complications of diabetes mellitus (DM). Renal excretion of the catabolic products of endogenous AGEs is impaired in patients with diabetic or nondiabetic kidney disease (KD). The aim of this study was to examine the oral absorption and renal clearance kinetics of food AGEs in DM with KD and whether circulating diet-derived AGEs contain active glycotoxins. Thirty-eight diabetics (DM) with or without KD and five healthy subjects (NL) received a single meal of egg white (56 g protein), cooked with (AGE-diet) or without fructose (100 g) (CL-diet). Serum and urine samples, collected for 48 hr, were monitored for AGE immunoreactivity by ELISA and for AGE-specific crosslinking reactivity, based on complex formation with 125I-labeled fibronectin. The AGE-diet, but not the CL-diet, produced distinct elevations in serum AGE levels in direct proportion to amount ingested (r = 0.8, P < 0.05): the area under the curve for serum (≈10% of ingested AGE) correlated directly with severity of KD; renal excretion of dietary AGE, although normally incomplete (only ≈30% of amount absorbed), in DM it correlated inversely with degree of albuminuria, and directly with creatinine clearance (r = 0.8, P < 0.05), reduced to <5% in DM with renal failure. Post-AGE-meal serum exhibited increased AGE-crosslinking activity (two times above baseline serum AGE, three times above negative control), which was inhibited by aminoguanidine. In conclusion, (i) the renal excretion of orally absorbed AGEs is markedly suppressed in diabetic nephropathy patients, (ii) daily influx of dietary AGEs includes glycotoxins that may constitute an added chronic risk for renal-vascular injury in DM, and (iii) dietary restriction of AGE food intake may greatly reduce the burden of AGEs in diabetic patients and possibly improve prognosis.']"
      ]
     },
     "execution_count": 190,
     "metadata": {},
     "output_type": "execute_result"
    }
   ],
   "source": [
    "[hit['content'] for hit in results[0]['hits']]"
   ]
  },
  {
   "cell_type": "code",
   "execution_count": 116,
   "metadata": {},
   "outputs": [],
   "source": [
    "from typing import List \n",
    "\n",
    "\n",
    "class GPTReranker:\n",
    "    def __init__(self, model_name, k, use_cuda, max_len=128):\n",
    "        self.model = self.load_model(model_name, use_cuda)\n",
    "        self.tokenizer = self.load_tokenizer(model_name)\n",
    "        self.k = k\n",
    "        self.max_len = max_len\n",
    "        \n",
    "        self.model.eval()\n",
    "    \n",
    "    def load_model(self, model_name:str, use_cuda:bool):\n",
    "        device = torch.device('cuda' if torch.cuda.is_available() & use_cuda else 'cpu')\n",
    "        model = AutoModelForCausalLM.from_pretrained(model_name, torch_dtype=torch.float32).to(device)\n",
    "        model.config.use_cache=True\n",
    "        return model\n",
    "    \n",
    "    def load_tokenizer(self, model_name:str):\n",
    "        tokenizer = AutoTokenizer.from_pretrained(model_name)\n",
    "        return tokenizer\n",
    "    \n",
    "    def get_chunks(self, corpus, chunk_size=128):\n",
    "        chunks = [corpus[i:i + chunk_size] for i in range(0, len(corpus), chunk_size)]\n",
    "        return chunks\n",
    "    \n",
    "    def score(self, corpus, query):\n",
    "        scores = []\n",
    "        \n",
    "        segments = corpus.split(' ')\n",
    "        chunks = self.get_chunks(segments)\n",
    "        for chunk in chunks:\n",
    "            prob = []\n",
    "            cids = self.tokenizer.encode(chunk + ' ' + query, return_tensors='pt')\n",
    "            qids = self.tokenizer.encode(query)\n",
    "            corpus_len = len(cids[0]) - len(qids)\n",
    "            with torch.no_grad():\n",
    "                outputs = self.model(input_ids=cids)\n",
    "                logits = outputs[0].squeeze(0)\n",
    "                log_softmax = F.log_softmax(logits)\n",
    "                for idx, qid in enumerate(qids):\n",
    "                    prob.append(log_softmax[corpus_len + idx][qid])\n",
    "            \n",
    "            score = torch.sum(prob)\n",
    "            scores.append(score)\n",
    "            \n",
    "        return max(scores)"
   ]
  },
  {
   "cell_type": "code",
   "execution_count": 72,
   "metadata": {},
   "outputs": [],
   "source": [
    "gpt_reranker = GPTReranker(config.model_name, k=config.k, use_cuda=config.use_cuda)"
   ]
  },
  {
   "cell_type": "code",
   "execution_count": 125,
   "metadata": {},
   "outputs": [],
   "source": [
    "qids = [query['_id'] for query in queries]\n",
    "query_texts = [query['text'] for query in queries]"
   ]
  },
  {
   "cell_type": "code",
   "execution_count": 135,
   "metadata": {},
   "outputs": [
    {
     "ename": "TypeError",
     "evalue": "sequence item 0: expected str instance, list found",
     "output_type": "error",
     "traceback": [
      "\u001b[1;31m---------------------------------------------------------------------------\u001b[0m",
      "\u001b[1;31mTypeError\u001b[0m                                 Traceback (most recent call last)",
      "\u001b[1;32mc:\\Users\\cathy\\OneDrive\\바탕 화면\\rerank\\rerank_nfcorpus.ipynb Cell 20\u001b[0m line \u001b[0;36m1\n\u001b[1;32m----> <a href='vscode-notebook-cell:/c%3A/Users/cathy/OneDrive/%EB%B0%94%ED%83%95%20%ED%99%94%EB%A9%B4/rerank/rerank_nfcorpus.ipynb#Y200sZmlsZQ%3D%3D?line=0'>1</a>\u001b[0m corpus \u001b[39m=\u001b[39m read_jsonl(\u001b[39m'\u001b[39;49m\u001b[39m./retrieved/bm25-nfcorpus.jsonl\u001b[39;49m\u001b[39m'\u001b[39;49m)\n",
      "\u001b[1;32mc:\\Users\\cathy\\OneDrive\\바탕 화면\\rerank\\rerank_nfcorpus.ipynb Cell 20\u001b[0m line \u001b[0;36m5\n\u001b[0;32m      <a href='vscode-notebook-cell:/c%3A/Users/cathy/OneDrive/%EB%B0%94%ED%83%95%20%ED%99%94%EB%A9%B4/rerank/rerank_nfcorpus.ipynb#Y200sZmlsZQ%3D%3D?line=2'>3</a>\u001b[0m lines \u001b[39m=\u001b[39m f\u001b[39m.\u001b[39mreadlines()\n\u001b[0;32m      <a href='vscode-notebook-cell:/c%3A/Users/cathy/OneDrive/%EB%B0%94%ED%83%95%20%ED%99%94%EB%A9%B4/rerank/rerank_nfcorpus.ipynb#Y200sZmlsZQ%3D%3D?line=3'>4</a>\u001b[0m result \u001b[39m=\u001b[39m [json\u001b[39m.\u001b[39mloads(line) \u001b[39mfor\u001b[39;00m line \u001b[39min\u001b[39;00m lines]\n\u001b[1;32m----> <a href='vscode-notebook-cell:/c%3A/Users/cathy/OneDrive/%EB%B0%94%ED%83%95%20%ED%99%94%EB%A9%B4/rerank/rerank_nfcorpus.ipynb#Y200sZmlsZQ%3D%3D?line=4'>5</a>\u001b[0m \u001b[39mreturn\u001b[39;00m \u001b[39m'\u001b[39;49m\u001b[39m \u001b[39;49m\u001b[39m'\u001b[39;49m\u001b[39m.\u001b[39;49mjoin(result)\n",
      "\u001b[1;31mTypeError\u001b[0m: sequence item 0: expected str instance, list found"
     ]
    }
   ],
   "source": [
    "corpus = read_jsonl('./retrieved/bm25-nfcorpus.jsonl')"
   ]
  },
  {
   "cell_type": "code",
   "execution_count": 133,
   "metadata": {},
   "outputs": [
    {
     "data": {
      "text/plain": [
       "{'query': 'Advanced Glycation End-products',\n",
       " 'hits': [{'rank': 1,\n",
       "   'qid': 'PLAIN-493',\n",
       "   'docid': 'MED-4554',\n",
       "   'score': 9.557299613952637,\n",
       "   'content': 'Advanced Glycation End Products in Foods and a Practical Guide to Their Reduction in the Diet Modern diets are largely heat-processed and as a result contain high levels of advanced glycation end products (AGEs). Dietary advanced glycation end products (dAGEs) are known to contribute to increased oxidant stress and inflammation, which are linked to the recent epidemics of diabetes and cardiovascular disease. This report significantly expands the available dAGE database, validates the dAGE testing methodology, compares cooking procedures and inhibitory agents on new dAGE formation, and introduces practical approaches for reducing dAGE consumption in daily life. Based on the findings, dry heat promotes new dAGE formation by >10- to 100-fold above the uncooked state across food categories. Animal-derived foods that are high in fat and protein are generally AGE-rich and prone to new AGE formation during cooking. In contrast, carbohydrate-rich foods such as vegetables, fruits, whole grains, and milk contain relatively few AGEs, even after cooking. The formation of new dAGEs during cooking was prevented by the AGE inhibitory compound aminoguanidine and significantly reduced by cooking with moist heat, using shorter cooking times, cooking at lower temperatures, and by use of acidic ingredients such as lemon juice or vinegar. The new dAGE database provides a valuable instrument for estimating dAGE intake and for guiding food choices to reduce dAGE intake.'},\n",
       "  {'rank': 2,\n",
       "   'qid': 'PLAIN-493',\n",
       "   'docid': 'MED-1433',\n",
       "   'score': 8.535099983215332,\n",
       "   'content': 'Dietary Advanced Glycation End Products and Aging Advanced glycation end products (AGEs) are a heterogeneous, complex group of compounds that are formed when reducing sugar reacts in a non-enzymatic way with amino acids in proteins and other macromolecules. This occurs both exogenously (in food) and endogenously (in humans) with greater concentrations found in older adults. While higher AGEs occur in both healthy older adults and those with chronic diseases, research is progressing to both quantify AGEs in food and in people, and to identify mechanisms that would explain why some human tissues are damaged, and others are not. In the last twenty years, there has been increased evidence that AGEs could be implicated in the development of chronic degenerative diseases of aging, such as cardiovascular disease, Alzheimer’s disease and with complications of diabetes mellitus. Results of several studies in animal models and humans show that the restriction of dietary AGEs has positive effects on wound healing, insulin resistance and cardiovascular diseases. Recently, the effect of restriction in AGEs intake has been reported to increase the lifespan in animal models. This paper will summarize the work that has been published for both food AGEs and in vivo AGEs and their relation with aging, as well as provide suggestions for future research.'},\n",
       "  {'rank': 3,\n",
       "   'qid': 'PLAIN-493',\n",
       "   'docid': 'MED-4553',\n",
       "   'score': 8.273699760437012,\n",
       "   'content': 'Advanced glycation end products as biomarkers and gerontotoxins - A basis to explore methylglyoxal-lowering agents for Alzheimer\\'s disease? Alzheimer\\'s disease (AD) is the most common dementing disorder of late life. Although there might be various different triggering events in the early stages of the disease, they seem to converge on a few characteristic final pathways in the late stages, characterized by inflammation and neurodegeneration. In this review, we put forward the hypothesis that advanced glycation end products (AGEs) and their precursors, including methylglyoxal, are both biomarkers and causative agents (\"gerontotoxins\") characteristic for this disorder. Accumulation of AGEs is a normal feature of aging, but is accelerated in AD, where AGEs can be detected in amyloid plaques and neurofibrillary tangles. AGE modification may explain many of the neuropathological and biochemical features of AD such as extensive protein cross-linking, inflammation, oxidative stress and neuronal cell death. We suggest that methylglyoxal is one of the major carbonyl species responsible for the formation of AGEs. We propose that one promising pharmacological approach to prevent the formation of AGEs would be to lower the methylglyoxal concentration. This can be achieved, for example, by decreasing the concentration of methylglyoxal precursors such as d-glyceraldehyde-3-phosphate by allowing a higher flux through the pentose phosphate pathway or by increasing methylglyoxal detoxification through the glyoxalase system. Alternatively, methylglyoxal could be scavenged by various types of carbonyl scavengers. Copyright © 2010 Elsevier Inc. All rights reserved.'},\n",
       "  {'rank': 4,\n",
       "   'qid': 'PLAIN-493',\n",
       "   'docid': 'MED-1431',\n",
       "   'score': 7.35290002822876,\n",
       "   'content': 'Advanced glycation end product level, diabetes, and accelerated cognitive aging Objective: Several studies report that diabetes increases risk of cognitive impairment; some have hypothesized that advanced glycation end products (AGEs) underlie this association. AGEs are cross-linked products that result from reactions between glucose and proteins. Little is known about the association between peripheral AGE concentration and cognitive aging. Methods: We prospectively studied 920 elders without dementia, 495 with diabetes and 425 with normal glucose (mean age 74.0 years). Using mixed models, we examined baseline AGE concentration, measured with urine pentosidine and analyzed as tertile, and performance on the Modified Mini-Mental State Examination (3MS) and Digit Symbol Substitution Test (DSST) at baseline and repeatedly over 9 years. Incident cognitive impairment (a decline of >1.0 SD on each test) was analyzed with logistic regression. Results: Older adults with high pentosidine level had worse baseline DSST score (p=0.05) but not different 3MS score (p=0.32). On both tests, there was a more pronounced 9-year decline in those with high and mid pentosidine level compared to those in the lowest tertile (3MS 7.0, 5.4, and 2.5 point decline, p overall <0.001; DSST 5.9, 7.4, and 4.5 point decline, p=0.03). Incident cognitive impairment was higher in those with high or mid pentosidine level than those in the lowest tertile (3MS: 24% vs 17%, odds ratio=1.55; 95% confidence interval 1.07–2.26; DSST: 31% vs 22%, odds ratio=1.62; 95% confidence interval 1.13–2.33). There was no interaction between pentosidine level, diabetes status, and cognitive decline. Multivariate adjustment for age, sex, race, education, hypertension, cardiovascular disease, estimated glomerular filtration rate, and diabetes diminished results somewhat but overall patterns remained similar. Conclusion: High peripheral AGE level is associated with greater cognitive decline in older adults with and without diabetes.'},\n",
       "  {'rank': 5,\n",
       "   'qid': 'PLAIN-493',\n",
       "   'docid': 'MED-2816',\n",
       "   'score': 7.112599849700928,\n",
       "   'content': \"Plant-derived health: the effects of turmeric and curcuminoids. Plants contain numerous polyphenols, which have been shown to reduce inflammation and hereby to increase resistance to disease. Examples of such polyphenols are isothiocyanates in cabbage and broccoli, epigallocatechin in green tee, capsaicin in chili peppers, chalones, rutin and naringenin in apples, resveratrol in red wine and fresh peanuts and curcumin/curcuminoids in turmeric. Most diseases are maintained by a sustained discreet but obvious increased systemic inflammation. Many studies suggest that the effect of treatment can be improved by a combination of restriction in intake of proinflammatory molecules such as advanced glycation end products (AGE), advanced lipoperoxidation end products (ALE), and rich supply of antiinflammatory molecules such as plant polyphenols. To the polyphenols with a bulk of experimental documentation belong the curcuminoid family and especially its main ingredient, curcumin. This review summarizes the present knowledge about these turmericderived ingredients, which have proven to be strong antioxidants and inhibitors of cyclooxigenase-2 (COX-2), lipoxygenase (LOX) and nuclear factor kappa B (NF-kappaB) but also AGE. A plethora of clinical effects are reported in various experimental diseases, but clinical studies in humans are few. It is suggested that supply of polyphenols and particularly curcuminoids might be value as complement to pharmaceutical treatment, but also prebiotic treatment, in conditions proven to be rather therapy-resistant such as Crohn's, long-stayed patients in intensive care units, but also in conditions such as cancer, liver cirrhosis, chronic renal disease, chronic obstructive lung disease, diabetes and Alzheimer's disease.\"},\n",
       "  {'rank': 6,\n",
       "   'qid': 'PLAIN-493',\n",
       "   'docid': 'MED-1438',\n",
       "   'score': 5.897600173950195,\n",
       "   'content': 'Serum concentration of an inflammatory glycotoxin, methylglyoxal, is associated with increased cognitive decline in elderly individuals Background Advanced glycations end products increase oxidant stress, inflammation, and neurotoxicity. Serum levels are increased in diabetes and aging. We examined the relationship between serum methylglyoxal derivatives (sMG), and cognitive decline, in 267 non-demented elderly. Methods Tobit mixed regression models assessed the association of baseline sMG with cognitive decline in the Mini Mental State Exam (MMSE) over time, controlling for sociodemographic factors (age, sex, and years of education), cardiovascular risk factors (diabetes and presence of an APOE4 allele), and kidney function. sMG was assessed by ELISA. Results The fully adjusted model showed an annual decline of 0.26 MMSE points per unit increase in baseline sMG (p=0.03). Significance was unchanged as additional risk factors were added to the model. The interactions of sMG with diabetes, sex, age, kidney function, and APOE4 genotype were not significant. Conclusions Higher levels of baseline sMG were associated with a faster rate of cognitive decline, after adjusting for several sociodemographic and clinical characteristics. This relationship did not differ by sex, APOE4 genotype, or diabetes status suggesting its generality. Since subjects were cognitively normal at the beginning of the study, elevated sMG may be indicative of brain cell injury initiated before clinically evident cognitive compromise.'},\n",
       "  {'rank': 7,\n",
       "   'qid': 'PLAIN-493',\n",
       "   'docid': 'MED-2276',\n",
       "   'score': 5.567699909210205,\n",
       "   'content': 'Sweet bing cherries lower circulating concentrations of markers for chronic inflammatory diseases in healthy humans. A limited number of studies have demonstrated that some modulators of inflammation can be altered by the consumption of sweet cherries. We have taken a proteomics approach to determine the effects of dietary cherries on targeted gene expression. The purpose was then to determine changes caused by cherry consumption in the plasma concentrations of multiple biomarkers for several chronic inflammatory diseases in healthy humans with modestly elevated C-reactive protein (CRP; range, 1-14 mg/L; mean, 3.5 mg/L; normal, <1.0 mg/L). Eighteen men and women (45-61 y) supplemented their diets with Bing sweet cherries (280 g/d) for 28 d. Fasting blood samples were taken before the start of consuming the cherries (study d 7), 28 d after the initiation of cherry supplementation (d 35), and 28 d after the discontinuation (d 63). Of the 89 biomarkers assessed, cherry consumption for 28 d altered concentrations of 9, did not change those of 67, and the other 13 were below the detection limits. Cherry consumption decreased (P < 0.05) plasma concentrations of extracellular newly identified ligand for the receptor for advanced glycation end products (29.0%), CRP (20.1%), ferritin (20.3%), plasminogen activator inhibitor-1 (19.9%), endothelin-1 (13.7%), epidermal growth factor (13.2%), and IL-18 (8.1%) and increased that of IL-1 receptor antagonist (27.9%) compared with corresponding values on study d 7. The ferritin concentration continued to decrease between d 35 and 63 and it was significantly lower on d 63 than on d 7. Because the participants in this study were healthy, no clinical pathology end points were measured. However, results from the present study demonstrate that cherry consumption selectively reduced several biomarkers associated with inflammatory diseases.'},\n",
       "  {'rank': 8,\n",
       "   'qid': 'PLAIN-493',\n",
       "   'docid': 'MED-5234',\n",
       "   'score': 5.214600086212158,\n",
       "   'content': 'Inflammatory mediators are induced by dietary glycotoxins, a major risk factor for diabetic angiopathy Diet is a major environmental source of proinflammatory AGEs (heat-generated advanced glycation end products); its impact in humans remains unclear. We explored the effects of two equivalent diets, one regular (high AGE, H-AGE) and the other with 5-fold lower AGE (L-AGE) content on inflammatory mediators of 24 diabetic subjects: 11 in a 2-week crossover and 13 in a 6-week study. After 2 weeks on H-AGE, serum AGEs increased by 64.5% (P = 0.02) and on L-AGE decreased by 30% (P = 0.02). The mononuclear cell tumor necrosis factor-α/β-actin mRNA ratio was 1.4 ± 0.5 on H-AGE and 0.9 ± 0.5 on L-AGE (P = 0.05), whereas serum vascular adhesion molecule-1 was 1,108 ± 429 and 698 ± 347 ng/ml (P = 0.01) on L- and H-AGE, respectively. After 6 weeks, peripheral blood mononuclear cell tumor necrosis factor-α rose by 86.3% (P = 0.006) and declined by 20% (P, not significant) on H- or L-AGE diet, respectively; C-reactive protein increased by 35% on H-AGE and decreased by 20% on L-AGE (P = 0.014), and vascular adhesion molecule-1 declined by 20% on L-AGE (P < 0.01) and increased by 4% on H-AGE. Serum AGEs were increased by 28.2% on H-AGE (P = 0.06) and reduced by 40% on L-AGE (P = 0.02), whereas AGE low density lipoprotein was increased by 32% on H-AGE and reduced by 33% on L-AGE diet (P < 0.05). Thus in diabetes, environmental (dietary) AGEs promote inflammatory mediators, leading to tissue injury. Restriction of dietary AGEs suppresses these effects.'},\n",
       "  {'rank': 9,\n",
       "   'qid': 'PLAIN-493',\n",
       "   'docid': 'MED-5235',\n",
       "   'score': 5.0208001136779785,\n",
       "   'content': 'Meat consumption, diabetes, and its complications. Several prospective studies have reported that risk of type 2 diabetes (T2DM) is elevated in meat consumers, especially when processed meats are consumed. Elevated risks of coronary heart disease (CHD) and stroke in meat consumers have also been reported. In this overview, the evidence regarding meat consumption and the risk of diabetes, both type 1 diabetes (T1DM) and T2DM and their macro- and microvascular complications, is reviewed. For T2DM, we performed a new meta-analysis including publications up to October 2012. For T1DM, only a few studies have reported increased risks for meat consumers or for high intake of saturated fatty acids and nitrates and nitrites. For T2DM, CHD, and stroke, the evidence is strongest. Per 100 g of total meat, the pooled relative risk (RR) for T2DM is 1.15 (95 % CI 1.07-1.24), for (unprocessed) red meat 1.13 (95 % CI 1.03-1.23), and for poultry 1.04 (95 % CI 0.99-1.33); per 50 g of processed meat, the pooled RR is 1.32 (95 % CI 1.19-1.48). Hence, the strongest association regarding T2DM is observed for processed (red) meat. A similar observation has been made for CHD. For stroke, however, a recent meta-analysis shows moderately elevated risks for meat consumers, for processed as well as for fresh meats. For the microvascular complications of diabetes, few prospective data were available, but suggestions for elevated risks can be derived from findings on hyperglycemia and hypertension. The results are discussed in the light of the typical nutrients and other compounds present in meat--that is, saturated and trans fatty acids, dietary cholesterol, protein and amino acids, heme-iron, sodium, nitrites and nitrosamines, and advanced glycation end products. In light of these findings, a diet moderate to low in red meat, unprocessed and lean, and prepared at moderate temperatures is probably the best choice from the public health point of view.'},\n",
       "  {'rank': 10,\n",
       "   'qid': 'PLAIN-493',\n",
       "   'docid': 'MED-5240',\n",
       "   'score': 4.915299892425537,\n",
       "   'content': 'Orally absorbed reactive glycation products (glycotoxins): An environmental risk factor in diabetic\\u2009nephropathy Endogenous advanced glycation endproducts (AGEs) include chemically crosslinking species (glycotoxins) that contribute to the vascular and renal complications of diabetes mellitus (DM). Renal excretion of the catabolic products of endogenous AGEs is impaired in patients with diabetic or nondiabetic kidney disease (KD). The aim of this study was to examine the oral absorption and renal clearance kinetics of food AGEs in DM with KD and whether circulating diet-derived AGEs contain active glycotoxins. Thirty-eight diabetics (DM) with or without KD and five healthy subjects (NL) received a single meal of egg white (56 g protein), cooked with (AGE-diet) or without fructose (100 g) (CL-diet). Serum and urine samples, collected for 48 hr, were monitored for AGE immunoreactivity by ELISA and for AGE-specific crosslinking reactivity, based on complex formation with 125I-labeled fibronectin. The AGE-diet, but not the CL-diet, produced distinct elevations in serum AGE levels in direct proportion to amount ingested (r = 0.8, P < 0.05): the area under the curve for serum (≈10% of ingested AGE) correlated directly with severity of KD; renal excretion of dietary AGE, although normally incomplete (only ≈30% of amount absorbed), in DM it correlated inversely with degree of albuminuria, and directly with creatinine clearance (r = 0.8, P < 0.05), reduced to <5% in DM with renal failure. Post-AGE-meal serum exhibited increased AGE-crosslinking activity (two times above baseline serum AGE, three times above negative control), which was inhibited by aminoguanidine. In conclusion, (i) the renal excretion of orally absorbed AGEs is markedly suppressed in diabetic nephropathy patients, (ii) daily influx of dietary AGEs includes glycotoxins that may constitute an added chronic risk for renal-vascular injury in DM, and (iii) dietary restriction of AGE food intake may greatly reduce the burden of AGEs in diabetic patients and possibly improve prognosis.'}]}"
      ]
     },
     "execution_count": 133,
     "metadata": {},
     "output_type": "execute_result"
    }
   ],
   "source": [
    "corpus[0][0]"
   ]
  },
  {
   "cell_type": "code",
   "execution_count": 126,
   "metadata": {},
   "outputs": [
    {
     "ename": "NameError",
     "evalue": "name 'gpt' is not defined",
     "output_type": "error",
     "traceback": [
      "\u001b[1;31m---------------------------------------------------------------------------\u001b[0m",
      "\u001b[1;31mNameError\u001b[0m                                 Traceback (most recent call last)",
      "\u001b[1;32mc:\\Users\\cathy\\OneDrive\\바탕 화면\\rerank\\rerank_nfcorpus.ipynb Cell 20\u001b[0m line \u001b[0;36m1\n\u001b[1;32m----> <a href='vscode-notebook-cell:/c%3A/Users/cathy/OneDrive/%EB%B0%94%ED%83%95%20%ED%99%94%EB%A9%B4/rerank/rerank_nfcorpus.ipynb#Y164sZmlsZQ%3D%3D?line=0'>1</a>\u001b[0m gpt\n",
      "\u001b[1;31mNameError\u001b[0m: name 'gpt' is not defined"
     ]
    }
   ],
   "source": [
    "gpt_reranker.score(q)"
   ]
  },
  {
   "cell_type": "code",
   "execution_count": null,
   "metadata": {},
   "outputs": [],
   "source": []
  },
  {
   "cell_type": "code",
   "execution_count": 86,
   "metadata": {},
   "outputs": [
    {
     "data": {
      "text/plain": [
       "[2, 7205, 33178, 12, 246]"
      ]
     },
     "execution_count": 86,
     "metadata": {},
     "output_type": "execute_result"
    }
   ],
   "source": [
    "instance = gpt_reranker.tokenizer(qids)\n",
    "instance['input_ids'][0]"
   ]
  },
  {
   "cell_type": "code",
   "execution_count": 88,
   "metadata": {},
   "outputs": [
    {
     "data": {
      "text/plain": [
       "tensor([[    2,  7205, 33178,    12,   246]])"
      ]
     },
     "execution_count": 88,
     "metadata": {},
     "output_type": "execute_result"
    }
   ],
   "source": [
    "input_ids = torch.tensor(instance['input_ids'][0]).unsqueeze(0)\n",
    "input_ids"
   ]
  },
  {
   "cell_type": "code",
   "execution_count": 89,
   "metadata": {},
   "outputs": [
    {
     "ename": "KeyError",
     "evalue": "'token_type_ids'",
     "output_type": "error",
     "traceback": [
      "\u001b[1;31m---------------------------------------------------------------------------\u001b[0m",
      "\u001b[1;31mKeyError\u001b[0m                                  Traceback (most recent call last)",
      "\u001b[1;32mc:\\Users\\cathy\\OneDrive\\바탕 화면\\rerank\\rerank_nfcorpus.ipynb Cell 22\u001b[0m line \u001b[0;36m1\n\u001b[1;32m----> <a href='vscode-notebook-cell:/c%3A/Users/cathy/OneDrive/%EB%B0%94%ED%83%95%20%ED%99%94%EB%A9%B4/rerank/rerank_nfcorpus.ipynb#Y104sZmlsZQ%3D%3D?line=0'>1</a>\u001b[0m token_type_ids \u001b[39m=\u001b[39m torch\u001b[39m.\u001b[39mtensor(instance[\u001b[39m'\u001b[39;49m\u001b[39mtoken_type_ids\u001b[39;49m\u001b[39m'\u001b[39;49m][\u001b[39m0\u001b[39m])\u001b[39m.\u001b[39munsqueeze(\u001b[39m0\u001b[39m)\n",
      "File \u001b[1;32mc:\\Users\\cathy\\.conda\\envs\\rerank\\lib\\site-packages\\transformers\\tokenization_utils_base.py:253\u001b[0m, in \u001b[0;36mBatchEncoding.__getitem__\u001b[1;34m(self, item)\u001b[0m\n\u001b[0;32m    243\u001b[0m \u001b[39m\u001b[39m\u001b[39m\"\"\"\u001b[39;00m\n\u001b[0;32m    244\u001b[0m \u001b[39mIf the key is a string, returns the value of the dict associated to `key` ('input_ids', 'attention_mask',\u001b[39;00m\n\u001b[0;32m    245\u001b[0m \u001b[39metc.).\u001b[39;00m\n\u001b[1;32m   (...)\u001b[0m\n\u001b[0;32m    250\u001b[0m \u001b[39mwith the constraint of slice.\u001b[39;00m\n\u001b[0;32m    251\u001b[0m \u001b[39m\"\"\"\u001b[39;00m\n\u001b[0;32m    252\u001b[0m \u001b[39mif\u001b[39;00m \u001b[39misinstance\u001b[39m(item, \u001b[39mstr\u001b[39m):\n\u001b[1;32m--> 253\u001b[0m     \u001b[39mreturn\u001b[39;00m \u001b[39mself\u001b[39;49m\u001b[39m.\u001b[39;49mdata[item]\n\u001b[0;32m    254\u001b[0m \u001b[39melif\u001b[39;00m \u001b[39mself\u001b[39m\u001b[39m.\u001b[39m_encodings \u001b[39mis\u001b[39;00m \u001b[39mnot\u001b[39;00m \u001b[39mNone\u001b[39;00m:\n\u001b[0;32m    255\u001b[0m     \u001b[39mreturn\u001b[39;00m \u001b[39mself\u001b[39m\u001b[39m.\u001b[39m_encodings[item]\n",
      "\u001b[1;31mKeyError\u001b[0m: 'token_type_ids'"
     ]
    }
   ],
   "source": [
    "token_type_ids = torch.tensor(instance['token_type_ids'][0]).unsqueeze(0)"
   ]
  },
  {
   "cell_type": "code",
   "execution_count": null,
   "metadata": {},
   "outputs": [],
   "source": [
    "def get_inputs(item, device, tokenizer):\n",
    "    input_ids = torch.tensor(['input_ids'], device=device).unsqueeze(0)\n",
    "    input_ids = tokenizer.decode()\n",
    "    input_ids, \n",
    "    token_type \n",
    "    attn_mask\n",
    "    "
   ]
  },
  {
   "cell_type": "code",
   "execution_count": 72,
   "metadata": {},
   "outputs": [],
   "source": [
    "import re\n",
    "\n",
    "def normalize_answer(s):\n",
    "    \"\"\"\n",
    "    Taken from the official evaluation script for v1.1 of the SQuAD dataset.\n",
    "    Lower text and remove punctuation, articles and extra whitespace.\n",
    "    \"\"\"\n",
    "\n",
    "    def remove_articles(text):\n",
    "        return re.sub(r\"\\b(a|an|the)\\b\", \" \", text)\n",
    "\n",
    "    def white_space_fix(text):\n",
    "        return \" \".join(text.split())\n",
    "\n",
    "    def remove_punc(text):\n",
    "        exclude = set(string.punctuation)\n",
    "        return \"\".join(ch for ch in text if ch not in exclude)\n",
    "\n",
    "    def lower(text):\n",
    "        return text.lower()\n",
    "\n",
    "    return white_space_fix(remove_articles(remove_punc(lower(s))))\n"
   ]
  },
  {
   "cell_type": "code",
   "execution_count": null,
   "metadata": {},
   "outputs": [],
   "source": [
    "# top_results = torch.topk(scores, k=5).indices \n",
    "# reranked_corpus = [corpus[i] for i in top_results] \n",
    "\n",
    "# scored_articles = zip(articles, cosine_similarities)\n",
    "\n",
    "# # Sort articles by cosine similarity\n",
    "# sorted_articles = sorted(scored_articles, key=lambda x: x[1], reverse=True)\n",
    "\n",
    "# scores = []\n",
    "# https://github.com/amazon-science/datatuner/blob/f70369659e1c58e6ddb44d6db467978679dbdd3c/src/datatuner/lm/reranker.py#L5 \n",
    "\n",
    "# sorted(initial_results, key=lambda x: x.score or 0.0, reverse=True)[\n",
    "        #     : self.top_n\n",
    "        # ]\n",
    "\n",
    "# reranked = reranker.rerank(query, texts)\n",
    "#     reranked.sort(key=lambda x: x.score, reverse=True)\n",
    "#     d['documents'] = [text.metadata for text in reranked]\n",
    "#   results.append(item)\n",
    "# \n",
    "\n",
    "# json.dump(results, open(\"iirc_reranked.json\",'w'))"
   ]
  },
  {
   "cell_type": "code",
   "execution_count": null,
   "metadata": {},
   "outputs": [],
   "source": [
    "quantization_config = BitsAndBytesConfig(\n",
    "    load_in_4bit=True,\n",
    ")\n",
    "\n",
    "tokenizer = AutoTokenizer.from_pretrained(config.model)\n",
    "model = AutoModelForCausalLM.from_pretrained(config.model,\n",
    "                                             quantization_config=quantization_config,\n",
    "                                             trust_remote_code=True,)\n",
    "\n",
    "model.config.use_cache=True"
   ]
  },
  {
   "cell_type": "code",
   "execution_count": null,
   "metadata": {},
   "outputs": [],
   "source": [
    "peft_config = LoraConfig(\n",
    "    r=8,\n",
    "    lora_alpha=16,\n",
    "    lora_dropout=0.05,\n",
    "    target_modules = [\"q_proj\", \"v_proj\"],\n",
    "    inference_mode=False,\n",
    "    bias='none',\n",
    "    task_type='CAUSAL_LM',\n",
    ")\n",
    "\n",
    "model = get"
   ]
  }
 ],
 "metadata": {
  "kernelspec": {
   "display_name": "rerank",
   "language": "python",
   "name": "python3"
  },
  "language_info": {
   "codemirror_mode": {
    "name": "ipython",
    "version": 3
   },
   "file_extension": ".py",
   "mimetype": "text/x-python",
   "name": "python",
   "nbconvert_exporter": "python",
   "pygments_lexer": "ipython3",
   "version": "3.8.18"
  }
 },
 "nbformat": 4,
 "nbformat_minor": 2
}
