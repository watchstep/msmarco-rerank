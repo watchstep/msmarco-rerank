{
 "cells": [
  {
   "cell_type": "code",
   "execution_count": 2,
   "metadata": {},
   "outputs": [
    {
     "name": "stderr",
     "output_type": "stream",
     "text": [
      "c:\\Users\\cathy\\.conda\\envs\\rerank\\lib\\site-packages\\bitsandbytes\\cextension.py:34: UserWarning: The installed version of bitsandbytes was compiled without GPU support. 8-bit optimizers, 8-bit multiplication, and GPU quantization are unavailable.\n",
      "  warn(\"The installed version of bitsandbytes was compiled without GPU support. \"\n"
     ]
    },
    {
     "name": "stdout",
     "output_type": "stream",
     "text": [
      "'NoneType' object has no attribute 'cadam32bit_grad_fp32'\n"
     ]
    }
   ],
   "source": [
    "import os\n",
    "import random\n",
    "import json\n",
    "import requests\n",
    "import io\n",
    "from zipfile import ZipFile\n",
    "import argparse\n",
    "\n",
    "import numpy as np\n",
    "import pandas as pd\n",
    "\n",
    "import torch\n",
    "\n",
    "import pyserini\n",
    "from pyserini.search import SimpleSearcher\n",
    "from pyserini.dsearch import SimpleDenseSearcher\n",
    "\n",
    "import transformers\n",
    "# from transformers import set_seed\n",
    "# set_seed(42)\n",
    "\n",
    "from peft import LoraConfig\n",
    "from transformers import (AutoTokenizer, \n",
    "                          AutoModelForCausalLM, \n",
    "                          BitsAndBytesConfig)"
   ]
  },
  {
   "cell_type": "code",
   "execution_count": 3,
   "metadata": {},
   "outputs": [],
   "source": [
    "parser = argparse.ArgumentParser(description='Reranking with LLaMA2')\n",
    "\n",
    "parser.add_argument('--model_name', type=str, default='Llama-2-7b-hf')\n",
    "parser.add_argument('--dataset', type=str, default='nfcorpus')\n",
    "parser.add_argument('--data_path', type=str, default='./collections/')\n",
    "parser.add_argument('--seed',type=int, default=42)\n",
    "parser.add_argument('--batch_size', type=int, default=256)\n",
    "parser.add_argument('--max_len', type=int, default=40)\n",
    "parser.add_argument('--lr', type=float, default=1e-5)\n",
    "parser.add_argument('--max_epochs', type=int, default=10)\n",
    "parser.add_argument('--use_cuda', type=bool, default=False)\n",
    "parser.add_argument('--k', type=int, default=10, help='top k')\n",
    "parser.add_argument('--k1', type=float, default=1.5, help='BM25 parameter')\n",
    "parser.add_argument('--b', type=float, default=0.75, help='BM25 parameter')\n",
    "\n",
    "parser.add_argument\n",
    "\n",
    "config = parser.parse_args([])"
   ]
  },
  {
   "cell_type": "code",
   "execution_count": 10,
   "metadata": {},
   "outputs": [],
   "source": [
    "dataset_path = os.path.join(config.data_path, config.dataset)\n",
    "nfcorpus_url = 'https://public.ukp.informatik.tu-darmstadt.de/thakur/BEIR/datasets/nfcorpus.zip'\n",
    "tsv_path = os.path.join(dataset_path, config.dataset, 'queries.tsv')\n",
    "queries_jsonl_path = os.path.join(dataset_path, config.dataset, 'queries.jsonl')\n",
    "corpus_jsonl_path = os.path.join(dataset_path, config.dataset, 'corpus.jsonl')\n",
    "pyserini_jsonl_path = os.path.join(dataset_path, 'pyserini-corpus', 'corpus.jsonl')\n",
    "index_path = os.path.join('./indexes', 'lucene-index.nfcorpus')"
   ]
  },
  {
   "cell_type": "code",
   "execution_count": 5,
   "metadata": {},
   "outputs": [],
   "source": [
    "# download data\n",
    "if not os.path.exists(dataset_path):\n",
    "    os.mkdir(dataset_path)\n",
    "\n",
    "response = requests.get(nfcorpus_url, stream=True)\n",
    "file = ZipFile(io.BytesIO(response.content))\n",
    "file.extractall(path=dataset_path)"
   ]
  },
  {
   "cell_type": "code",
   "execution_count": 8,
   "metadata": {},
   "outputs": [],
   "source": [
    "with open(tsv_path, 'w') as out:\n",
    "    with open(queries_jsonl_path, 'r') as f:\n",
    "        for line in f:\n",
    "            l = json.loads(line)\n",
    "            out.write(l['_id'] + '\\t' + l['text'] + '\\n')"
   ]
  },
  {
   "cell_type": "code",
   "execution_count": 11,
   "metadata": {},
   "outputs": [],
   "source": [
    "# https://github.com/castorini/pyserini/blob/e371ed3661e90db6b797290493d973cb6c089c43/docs/conceptual-framework2.md\n",
    "with open(pyserini_jsonl_path, 'w') as out:\n",
    "    with open(corpus_jsonl_path, 'r') as f:\n",
    "        for line in f:\n",
    "            l = json.loads(line)\n",
    "            s = json.dumps({'id': l['_id'], 'contents': l['title'] + ' ' + l['text']})\n",
    "            out.write(s + '\\n')"
   ]
  },
  {
   "cell_type": "code",
   "execution_count": 13,
   "metadata": {},
   "outputs": [],
   "source": [
    "from typing import List\n",
    "from pyserini.search.lucene import LuceneSearcher \n",
    "\n",
    "# Indexer # Retriever # BaseRetriever 만들고 BM25, ANCE, Hybrid\n",
    "# build_sparse_index \n",
    "# build_dense_index\n",
    "# ssearch, dsearch, hsearch\n",
    "\n",
    "class BM25Retriever:\n",
    "    def __init__(self, jsonl_path, index_path, k1=1.5, b=0.75):\n",
    "        self.jsonl_path = jsonl_path\n",
    "        if not os.path.exists(index_path):\n",
    "            self.build_sparse_index(jsonl_path, index_path)\n",
    "        self.searcher = LuceneSearcher(index_path) # searcher = SimpleSearcher.from_prebuilt_index('msmarco-passage')\n",
    "        self.searcher.set_bm25(k1=k1, b=b)\n",
    "        # self.searcher.set_language()\n",
    "    \n",
    "    def build_sparse_index(self, jsonl_path, index_path): # 나중에 dense, hybird하기 위해 build_dense_index 만들고 새로운 class 만들기\n",
    "        execute_code = os.system('python -m pyserini.index.lucene ' + \n",
    "                                 '--collection JsonCollection ' +\n",
    "                                 f'--input {jsonl_path} ' +\n",
    "                                 f'--index {index_path} ' +\n",
    "                                 '--generator DefaultLuceneDocumentGenerator ' +\n",
    "                                 '--threads 1 --storeRaw')\n",
    "        if execute_code != 0:\n",
    "            raise Exception('Indexing Failed!')\n",
    "        else:\n",
    "            print('Indexing Success!')\n",
    "            \n",
    "    def _get_results(self, qid, hits:List):\n",
    "        results = []\n",
    "        \n",
    "        for i, hit in enumerate(hits):\n",
    "            docid = hit.docid\n",
    "            content = json.loads(hits[i].raw)['contents']\n",
    "            bm25_score = hit.score\n",
    "            result = {'rank': i,\n",
    "                      'qid': qid,\n",
    "                      'docid': docid, \n",
    "                      'bm25_score': bm25_score,\n",
    "                      'content': content}\n",
    "            results.append(result)\n",
    "            \n",
    "        return results\n",
    "    \n",
    "    def search(self, qid, query:str, k:int=10):\n",
    "        hits = self.searcher.search(query, k=k)\n",
    "        search_results  = self._get_results(qid, hits)\n",
    "        \n",
    "        return search_results\n",
    "    \n",
    "    def batch_search(self, queries: List[str], qids: List[str], k:int=10):\n",
    "        batch_hits = self.searcher.batch_search(queries, qids, k=k)\n",
    "        bsearch_results = {}\n",
    "        \n",
    "        for qid, hits in batch_hits.items():\n",
    "            bsearch_results[qid] = self._get_results(qid, hits)\n",
    "        \n",
    "        return bsearch_results"
   ]
  },
  {
   "cell_type": "code",
   "execution_count": 16,
   "metadata": {},
   "outputs": [
    {
     "name": "stdout",
     "output_type": "stream",
     "text": [
      "Indexing Success!\n"
     ]
    }
   ],
   "source": [
    "bm25_retriever = BM25Retriever('collections/nfcorpus/pyserini-corpus/', index_path)"
   ]
  },
  {
   "cell_type": "code",
   "execution_count": 20,
   "metadata": {},
   "outputs": [
    {
     "data": {
      "text/plain": [
       "[{'rank': 0,\n",
       "  'qid': 'PLAIN-63',\n",
       "  'docid': 'MED-1933',\n",
       "  'bm25_score': 4.668799877166748,\n",
       "  'content': 'From the Cover: Accelerated telomere shortening in response to life stress Numerous studies demonstrate links between chronic stress and indices of poor health, including risk factors for cardiovascular disease and poorer immune function. Nevertheless, the exact mechanisms of how stress gets “under the skin” remain elusive. We investigated the hypothesis that stress impacts health by modulating the rate of cellular aging. Here we provide evidence that psychological stress— both perceived stress and chronicity of stress—is significantly associated with higher oxidative stress, lower telomerase activity, and shorter telomere length, which are known determinants of cell senescence and longevity, in peripheral blood mononuclear cells from healthy premenopausal women. Women with the highest levels of perceived stress have telomeres shorter on average by the equivalent of at least one decade of additional aging compared to low stress women. These findings have implications for understanding how, at the cellular level, stress may promote earlier onset of age-related diseases.'},\n",
       " {'rank': 1,\n",
       "  'qid': 'PLAIN-63',\n",
       "  'docid': 'MED-4522',\n",
       "  'bm25_score': 3.8355000019073486,\n",
       "  'content': 'Food selection based on high total antioxidant capacity improves endothelial function in a low cardiovascular risk population. BACKGROUND AND AIMS: Oxidative stress has been advocated as a major cause for cardiovascular disease (CVD), and low plasma antioxidant concentrations are associated with endothelial dysfunction, the first step towards atherosclerosis. However, although the antioxidant content in fruits and vegetables may explain at least in part their protective effect against CVD, supplementation with antioxidant vitamins fails to improve endothelial function and reduce CVD risk. The aim of this study was to investigate the impact of a diet rich in antioxidants on endothelial function measured by flow-mediated dilatation (FMD) in volunteers at low cardiovascular risk. METHODS AND RESULTS: In a crossover trial, 24 subjects (13 women, mean age 61\\xa0±\\xa03 years), received, in a randomised order, a 14-day high (HT) and a 14-day low (LT) antioxidant diets, with a 2-week wash-out (WO) in between. Both diets were comparable in daily portions of fruits and vegetables, and in alcohol, fibre and macronutrient intake, but differed in their total antioxidant capacity. Before and after each diet, anthropometrics, blood pressure, fasting plasma glucose, lipid profile, hepatic enzymes, circulating antioxidant concentrations, high sensitivity C-reactive protein (hs-CRP) and FMD were assessed. FMD increased significantly during the HT diet compared to the LT (p\\xa0<\\xa00.000). FMD values were 2.3% higher after HT compared with LT (p\\xa0<\\xa00.001) after adjustment for age, gender and diet order. α-tocopherol increased significantly (p\\xa0<\\xa00.05) and hs-CRP and of γ-glutamyltranspeptidase decreased significantly (p\\xa0<\\xa00.05 and p\\xa0<\\xa00.01, respectively) during the HT diet, compared with the LT diet. CONCLUSIONS: A short-term HT diet improves endothelial function in volunteers at low cardiovascular risk, which may further reduce their risk of CVD. Copyright © 2010 Elsevier B.V. All rights reserved.'},\n",
       " {'rank': 2,\n",
       "  'qid': 'PLAIN-63',\n",
       "  'docid': 'MED-3539',\n",
       "  'bm25_score': 3.772700071334839,\n",
       "  'content': 'Effect of kiwifruit consumption on sleep quality in adults with sleep problems. Numerous studies have revealed that kiwifruit contains many medicinally useful compounds, among which antioxidants and serotonin may be beneficial in the treatment of the sleep disorders. The aim of this study was to evaluate the effects of kiwifruit on sleep patterns, including sleep onset, duration, and quality. In this study, we applied a free-living, self-controlled diet design. Twenty-four subjects (2 males, 22 females) 20 to 55 years of age consumed 2 kiwifruits 1 hour before bedtime nightly for 4 weeks. The Chinese version of the Pittsburgh Sleep Quality Index (CPSQI), a 3-day sleep diary, and the Actigraph sleep/activity logger watch were used to assess the subjective and objective parameters of sleep quality, including time to bed, time of sleep onset, waking time after sleep onset, time of getting up, total sleep time, and self-reported sleep quality and sleep onset latency, waking time after sleep onset, total sleep time, and sleep efficiency before and after the intervention. After 4 weeks of kiwifruit consumption, the subjective CPSQI score, waking time after sleep onset, and sleep onset latency were significantly decreased (42.4%, 28.9%, and 35.4%, respectively). Total sleep time and sleep efficiency were significantly increased (13.4% and 5.41%, respectively). Kiwifruit consumption may improve sleep onset, duration, and efficiency in adults with self-reported sleep disturbances. Further investigation of the sleep-promoting properties of kiwifruit may be warranted.'},\n",
       " {'rank': 3,\n",
       "  'qid': 'PLAIN-63',\n",
       "  'docid': 'MED-3771',\n",
       "  'bm25_score': 3.695199966430664,\n",
       "  'content': 'What is the cell hydration status of healthy children in the USA? Preliminary data on urine osmolality and water intake. OBJECTIVE: Hyperosmotic stress on cells limits many aspects of cell function, metabolism and health. International data suggest that schoolchildren may be at risk of hyperosmotic stress on cells because of suboptimal water intake. The present study explored the cell hydration status of two samples of children in the USA. DESIGN: Cross-sectional study describing the urine osmolality (an index of hyperosmotic cell shrinkage) and water intake of convenience samples from Los Angeles (LA) and New York City (NYC). SETTING: Each participant collected a urine sample at an outpatient clinic on the way to school on a weekday morning in spring 2009. Each was instructed to wake, eat, drink and do as usual before school, and complete a dietary record form describing the type and amounts of all foods and beverages consumed after waking, before giving the sample. SUBJECTS: The children (9-11 years) in LA (n 337) and NYC (n 211) considered themselves healthy enough to go to school on the day they gave the urine sample. RESULTS: Elevated urine osmolality (>800 mmol/kg) was observed in 63 % and 66 % of participants in LA and NYC, respectively. In multivariable-adjusted logistic regression models, elevated urine osmolality was associated with not reporting intake of drinking water in the morning (LA: OR = 2·1, 95 % CI 1·2, 3·5; NYC: OR = 1·8, 95 % CI 1·0, 3·5). Although over 90 % of both samples had breakfast before giving the urine sample, 75 % did not drink water. CONCLUSIONS: Research is warranted to confirm these results and pursue their potential health implications.'},\n",
       " {'rank': 4,\n",
       "  'qid': 'PLAIN-63',\n",
       "  'docid': 'MED-5072',\n",
       "  'bm25_score': 3.585599899291992,\n",
       "  'content': 'Lycopene-rich treatments modify noneosinophilic airway inflammation in asthma: proof of concept. Antioxidant-rich diets are associated with reduced asthma prevalence. However, direct evidence that altering intake of antioxidant-rich foods affects asthma is lacking. The objective was to investigate changes in asthma and airway inflammation resulting from a low antioxidant diet and subsequent use of lycopene-rich treatments. Asthmatic adults (n=32) consumed a low antioxidant diet for 10 days, then commenced a randomized, cross-over trial involving 3 x 7 day treatment arms (placebo, tomato extract (45 mg lycopene/day) and tomato juice (45 mg lycopene/day)). With consumption of a low antioxidant diet, plasma carotenoid concentrations decreased, Asthma Control Score worsened, %FEV(1) and %FVC decreased and %sputum neutrophils increased. Treatment with both tomato juice and extract reduced airway neutrophil influx. Treatment with tomato extract also reduced sputum neutrophil elastase activity. In conclusion, dietary antioxidant consumption modifies clinical asthma outcomes. Changing dietary antioxidant intake may be contributing to rising asthma prevalence. Lycopene-rich supplements should be further investigated as a therapeutic intervention.'},\n",
       " {'rank': 5,\n",
       "  'qid': 'PLAIN-63',\n",
       "  'docid': 'MED-4206',\n",
       "  'bm25_score': 3.584700107574463,\n",
       "  'content': 'Vegetarian diets and public health: biomarker and redox connections. Vegetarian diets are rich in antioxidant phytochemicals. However, they may not act as antioxidants in vivo, and yet still have important signaling and regulatory functions. Some may act as pro-oxidants, modulating cellular redox tone and oxidizing redox sensitive sites. In this review, evidence for health benefits of vegetarian diets is presented from different perspectives: epidemiological, biomarker, evolutionary, and public health, as well as antioxidant. From the perspective of molecular connections between diet and health, evidence of a role for plasma ascorbic acid as a biomarker for future disease risk is presented. Basic concepts of redox-based cell signaling are presented, and effects of antioxidant phytochemicals on signaling, especially via redox tone, sulfur switches and the Antioxidant Response Element (ARE), are explored. Sufficient scientific evidence exists for public health policy to promote a plant-rich diet for health promotion. This does not need to wait for science to provide all the answers as to why and how. However, action and interplay of dietary antioxidants in the nonequilibrium systems that control redox balance, cell signaling, and cell function provide rich ground for research to advance understanding of orthomolecular nutrition and provide science-based evidence to advance public health in our aging population.'},\n",
       " {'rank': 6,\n",
       "  'qid': 'PLAIN-63',\n",
       "  'docid': 'MED-4687',\n",
       "  'bm25_score': 3.5846991539001465,\n",
       "  'content': 'Vegetarian diets and public health: biomarker and redox connections. Vegetarian diets are rich in antioxidant phytochemicals. However, they may not act as antioxidants in vivo, and yet still have important signaling and regulatory functions. Some may act as pro-oxidants, modulating cellular redox tone and oxidizing redox sensitive sites. In this review, evidence for health benefits of vegetarian diets is presented from different perspectives: epidemiological, biomarker, evolutionary, and public health, as well as antioxidant. From the perspective of molecular connections between diet and health, evidence of a role for plasma ascorbic acid as a biomarker for future disease risk is presented. Basic concepts of redox-based cell signaling are presented, and effects of antioxidant phytochemicals on signaling, especially via redox tone, sulfur switches and the Antioxidant Response Element (ARE), are explored. Sufficient scientific evidence exists for public health policy to promote a plant-rich diet for health promotion. This does not need to wait for science to provide all the answers as to why and how. However, action and interplay of dietary antioxidants in the nonequilibrium systems that control redox balance, cell signaling, and cell function provide rich ground for research to advance understanding of orthomolecular nutrition and provide science-based evidence to advance public health in our aging population.'},\n",
       " {'rank': 7,\n",
       "  'qid': 'PLAIN-63',\n",
       "  'docid': 'MED-1866',\n",
       "  'bm25_score': 3.5271999835968018,\n",
       "  'content': 'Hibiscus sabdariffa extract lowers blood pressure and improves endothelial function. Polyphenols from Hibiscus sabdariffa calices were administered to patients with metabolic syndrome (125 mg/kg/day for 4 wk, n = 31) and spontaneously hypertensive rats (125 or 60 mg/kg in a single dose or daily for 1 wk, n = 8 for each experimental group). The H. sabdariffa extract improved metabolism, displayed potent anti-inflammatory and antioxidant activities, and significantly reduced blood pressure in both humans and rats. Diuresis and inhibition of the angiotensin I-converting enzyme were found to be less important mechanisms than those related to the antioxidant, anti-inflammatory, and endothelium-dependent effects to explain the beneficial actions. Notably, polyphenols induced a favorable endothelial response that should be considered in the management of metabolic cardiovascular risks. © 2014 The Authors. Molecular Nutrition & Food Research published by Wiley-VCH Verlag GmbH & Co. KGaA, Weinheim.'},\n",
       " {'rank': 8,\n",
       "  'qid': 'PLAIN-63',\n",
       "  'docid': 'MED-2695',\n",
       "  'bm25_score': 3.5169999599456787,\n",
       "  'content': 'Total antioxidant capacity from diet and risk of myocardial infarction: a prospective cohort of women. BACKGROUND: There are no previous studies investigating the effect of all dietary antioxidants in relation to myocardial infarction. The total antioxidant capacity of diet takes into account all antioxidants and synergistic effects between them. The aim of this study was to examine how total antioxidant capacity of diet and antioxidant-containing foods were associated with incident myocardial infarction among middle-aged and elderly women. METHODS: In the population-based prospective Swedish Mammography Cohort of 49-83-year-old women, 32,561 were cardiovascular disease-free at baseline. Women completed a food-frequency questionnaire, and dietary total antioxidant capacity was calculated using oxygen radical absorbance capacity values. Information on myocardial infarction was identified from the Swedish Hospital Discharge and the Cause of Death registries. Hazard ratios (HR) and 95% confidence intervals (CI) were calculated using Cox proportional hazard models. RESULTS: During the follow-up (September 1997-December 2007), we identified 1114 incident cases of myocardial infarction (321,434 person-years). In multivariable-adjusted analysis, the HR for women comparing the highest quintile of dietary total antioxidant capacity to the lowest was 0.80 (95% CI, 0.67-0.97; P for trend=0.02). Servings of fruit and vegetables and whole grains were nonsignificantly inversely associated with myocardial infarction. CONCLUSIONS: These data suggest that dietary total antioxidant capacity, based on fruits, vegetables, coffee, and whole grains, is of importance in the prevention of myocardial infarction. Copyright © 2012 Elsevier Inc. All rights reserved.'},\n",
       " {'rank': 9,\n",
       "  'qid': 'PLAIN-63',\n",
       "  'docid': 'MED-1051',\n",
       "  'bm25_score': 3.501300096511841,\n",
       "  'content': 'How does physician advice influence patient behavior? Evidence for a priming effect. OBJECTIVE: To explore a potential \"priming effect\" of physician advice on patient responses to behavioral change interventions. DESIGN: Randomized controlled trial with a 3-month follow-up. SETTING: Four community-based group family medicine clinics in southeastern Missouri. PARTICIPANTS: Adult patients (N = 915). INTERVENTIONS: Printed educational materials designed to encourage patients to quit smoking, eat less fat, and increase physical activity. MAIN OUTCOME MEASURES: Recall, rating, and use of the educational materials; changes in smoking behavior, dietary fat consumption, and physical activity. RESULTS: Patients who received physician advice to quit smoking, eat less fat, or get more exercise prior to receiving intervention materials on the same topic were more likely to remember the materials, show them to others, and perceive the materials as applying to them specifically. They were also more likely to report trying to quit smoking (odds ratio [OR] = 1.54, 95% confidence interval [CI] = 0.95-2.40), quitting for at least 24 hours (OR = 1.85, 95% CI = 1.02-3.34), and making some changes in diet (OR = 1.35, 95% CI = 1.00-1.84) and physical activity (OR = 1.51, 95% CI = 0.95-2.40). CONCLUSIONS: Findings support an integrated model of disease prevention in which physician advice is a catalyst for change and is supported by a coordinated system of information and activities that can provide the depth of detail and individualization necessary for sustained behavioral change.'}]"
      ]
     },
     "execution_count": 20,
     "metadata": {},
     "output_type": "execute_result"
    }
   ],
   "source": [
    "bm25_retriever.search(qid=\"PLAIN-63\", query='How to Get Enough Antioxidants Each Day')"
   ]
  },
  {
   "cell_type": "code",
   "execution_count": null,
   "metadata": {},
   "outputs": [],
   "source": [
    "from typing import List \n",
    "from base import Reranker, Query, Text # pygaggle\n",
    "\n",
    "# https://github.com/informagi/EMBERT/blob/f89efeeeef53d4dc9e2cc1f2b547aa34aa4f7945/Code/pygaggle/rerank/transformer.py\n",
    "class LLaMAReranker(Reranker):\n",
    "    def __init__(self, model_name, max_len, use_cuda):\n",
    "        self.model = self.load_model(model_name, use_cuda)\n",
    "        self.tokenizer = self.load_tokenizer(model_name)\n",
    "        self.max_len = max_len\n",
    "    \n",
    "    def load_model(self, model_name:str, use_cuda:bool):\n",
    "        device = torch.device('cuda' if torch.cuda.is_available() & use_cuda else 'cpu')\n",
    "        model = AutoModelForCausalLM.from_pretrained(f'meta-llama/{model_name}', torch_dtype=torch.float16).to(device)\n",
    "        return model\n",
    "    \n",
    "    def load_tokenizer(self, model_name:str):\n",
    "        tokenizer = AutoTokenizer.from_pretrained(f'meta-llama/{model_name}')\n",
    "        return tokenizer\n",
    "        \n",
    "    \n",
    "    def rerank(self, query: Query, texts: List[Text]) -> List[Text]:\n",
    "        for text in texts:\n",
    "            result = self.tokenizer(query.text)\n",
    "            input_ids\n",
    "            attn_mask\n",
    "            \n",
    "        \n",
    "            \n",
    "        \n",
    "        return super().rerank(query, texts)\n",
    "    \n",
    "    # similarity score\n",
    "    # deft score(self, input_ids, item)"
   ]
  },
  {
   "cell_type": "markdown",
   "metadata": {},
   "source": []
  },
  {
   "cell_type": "code",
   "execution_count": null,
   "metadata": {},
   "outputs": [],
   "source": [
    "def get_inputs(item, device, tokenizer):\n",
    "    input_ids = torch.tensor(['input_ids'], device=device).unsqueeze(0)\n",
    "    input_ids = tokenizer.decode()\n",
    "    input_ids, \n",
    "    token_type \n",
    "    attn_mask\n",
    "    "
   ]
  },
  {
   "cell_type": "code",
   "execution_count": null,
   "metadata": {},
   "outputs": [],
   "source": [
    "# top_results = torch.topk(scores, k=5).indices \n",
    "# reranked_corpus = [corpus[i] for i in top_results] \n",
    "\n",
    "# scored_articles = zip(articles, cosine_similarities)\n",
    "\n",
    "# # Sort articles by cosine similarity\n",
    "# sorted_articles = sorted(scored_articles, key=lambda x: x[1], reverse=True)\n",
    "\n",
    "# scores = []\n",
    "# https://github.com/amazon-science/datatuner/blob/f70369659e1c58e6ddb44d6db467978679dbdd3c/src/datatuner/lm/reranker.py#L5 \n"
   ]
  },
  {
   "cell_type": "code",
   "execution_count": null,
   "metadata": {},
   "outputs": [],
   "source": [
    "quantization_config = BitsAndBytesConfig(\n",
    "    load_in_4bit=True,\n",
    ")\n",
    "\n",
    "tokenizer = AutoTokenizer.from_pretrained(config.model)\n",
    "model = AutoModelForCausalLM.from_pretrained(config.model,\n",
    "                                             quantization_config=quantization_config,\n",
    "                                             trust_remote_code=True,)\n",
    "\n",
    "model.config.use_cache=True"
   ]
  },
  {
   "cell_type": "code",
   "execution_count": null,
   "metadata": {},
   "outputs": [],
   "source": [
    "peft_config = LoraConfig(\n",
    "    r=8,\n",
    "    lora_alpha=16,\n",
    "    lora_dropout=0.05,\n",
    "    target_modules = [\"q_proj\", \"v_proj\"],\n",
    "    inference_mode=False,\n",
    "    bias='none',\n",
    "    task_type='CAUSAL_LM',\n",
    ")\n",
    "\n",
    "model = get"
   ]
  }
 ],
 "metadata": {
  "kernelspec": {
   "display_name": "rerank",
   "language": "python",
   "name": "python3"
  },
  "language_info": {
   "codemirror_mode": {
    "name": "ipython",
    "version": 3
   },
   "file_extension": ".py",
   "mimetype": "text/x-python",
   "name": "python",
   "nbconvert_exporter": "python",
   "pygments_lexer": "ipython3",
   "version": "3.8.18"
  }
 },
 "nbformat": 4,
 "nbformat_minor": 2
}
