{
 "cells": [
  {
   "cell_type": "code",
   "execution_count": 2,
   "metadata": {},
   "outputs": [],
   "source": [
    "import os\n",
    "import random\n",
    "import json\n",
    "import requests\n",
    "import io\n",
    "from zipfile import ZipFile\n",
    "import argparse\n",
    "import multiprocessing\n",
    "\n",
    "import numpy as np\n",
    "import pandas as pd\n",
    "\n",
    "import torch\n",
    "\n",
    "import pyserini\n",
    "from pyserini.search import SimpleSearcher\n",
    "from pyserini.dsearch import SimpleDenseSearcher\n",
    "\n",
    "import transformers\n",
    "# from transformers import set_seed\n",
    "# set_seed(42)\n",
    "\n",
    "from peft import LoraConfig\n",
    "from transformers import (AutoTokenizer, \n",
    "                          AutoModelForCausalLM, \n",
    "                          BitsAndBytesConfig)"
   ]
  },
  {
   "cell_type": "code",
   "execution_count": 3,
   "metadata": {},
   "outputs": [],
   "source": [
    "parser = argparse.ArgumentParser(description='Reranking with OPT & NFCorpus')\n",
    "\n",
    "parser.add_argument('--model_name', type=str, default='facebook/opt-125m')\n",
    "parser.add_argument('--dataset', type=str, default='nfcorpus')\n",
    "parser.add_argument('--data_path', type=str, default='./collections/')\n",
    "parser.add_argument('--seed',type=int, default=42)\n",
    "parser.add_argument('--batch_size', type=int, default=256)\n",
    "parser.add_argument('--max_len', type=int, default=40)\n",
    "parser.add_argument('--lr', type=float, default=1e-5)\n",
    "parser.add_argument('--max_epochs', type=int, default=10)\n",
    "parser.add_argument('--use_cuda', type=bool, default=False)\n",
    "parser.add_argument('--k', type=int, default=10, help='top k')\n",
    "parser.add_argument('--k1', type=float, default=1.5, help='BM25 parameter')\n",
    "parser.add_argument('--b', type=float, default=0.75, help='BM25 parameter')\n",
    "\n",
    "parser.add_argument\n",
    "\n",
    "config = parser.parse_args([])"
   ]
  },
  {
   "cell_type": "markdown",
   "metadata": {},
   "source": [
    "### Prepare NFCorpus"
   ]
  },
  {
   "cell_type": "code",
   "execution_count": 5,
   "metadata": {},
   "outputs": [],
   "source": [
    "dataset_path = os.path.join(config.data_path, config.dataset)\n",
    "nfcorpus_url = 'https://public.ukp.informatik.tu-darmstadt.de/thakur/BEIR/datasets/nfcorpus.zip'\n",
    "tsv_path = os.path.join(dataset_path, config.dataset, 'queries.tsv')\n",
    "queries_jsonl_path = os.path.join(dataset_path, config.dataset, 'queries.jsonl')\n",
    "corpus_jsonl_path = os.path.join(dataset_path, config.dataset, 'corpus.jsonl')\n",
    "pyserini_jsonl_path = os.path.join(dataset_path, 'pyserini-corpus', 'corpus.jsonl')"
   ]
  },
  {
   "cell_type": "code",
   "execution_count": 5,
   "metadata": {},
   "outputs": [],
   "source": [
    "# download data\n",
    "if not os.path.exists(dataset_path):\n",
    "    os.mkdir(dataset_path)\n",
    "\n",
    "response = requests.get(nfcorpus_url, stream=True)\n",
    "file = ZipFile(io.BytesIO(response.content))\n",
    "file.extractall(path=dataset_path)"
   ]
  },
  {
   "cell_type": "code",
   "execution_count": 8,
   "metadata": {},
   "outputs": [],
   "source": [
    "with open(tsv_path, 'w') as out:\n",
    "    with open(queries_jsonl_path, 'r') as f:\n",
    "        for line in f:\n",
    "            l = json.loads(line)\n",
    "            out.write(l['_id'] + '\\t' + l['text'] + '\\n')"
   ]
  },
  {
   "cell_type": "code",
   "execution_count": 11,
   "metadata": {},
   "outputs": [],
   "source": [
    "# https://github.com/castorini/pyserini/blob/e371ed3661e90db6b797290493d973cb6c089c43/docs/conceptual-framework2.md\n",
    "with open(pyserini_jsonl_path, 'w') as out:\n",
    "    with open(corpus_jsonl_path, 'r') as f:\n",
    "        for line in f:\n",
    "            l = json.loads(line)\n",
    "            s = json.dumps({'id': l['_id'], 'contents': l['title'] + ' ' + l['text']})\n",
    "            out.write(s + '\\n')"
   ]
  },
  {
   "cell_type": "markdown",
   "metadata": {},
   "source": [
    "### Sparse Indexing & BM25"
   ]
  },
  {
   "cell_type": "code",
   "execution_count": 6,
   "metadata": {},
   "outputs": [],
   "source": [
    "from typing import List\n",
    "from pyserini.search.lucene import LuceneSearcher \n",
    "\n",
    "class BM25Retriever:\n",
    "    def __init__(self, jsonl_path, index_path, k1=1.5, b=0.75):\n",
    "        self.jsonl_path = jsonl_path\n",
    "        if not os.path.exists(index_path):\n",
    "            self.build_sparse_index(jsonl_path, index_path)\n",
    "        self.searcher = LuceneSearcher(index_path)\n",
    "        self.searcher.set_bm25(k1=k1, b=b)\n",
    "        # self.searcher.set_language()\n",
    "    \n",
    "    def build_sparse_index(self, jsonl_path, index_path):\n",
    "        execute_code = os.system('python -m pyserini.index.lucene ' + \n",
    "                                 '--collection JsonCollection ' +\n",
    "                                 f'--input {jsonl_path} ' +\n",
    "                                 f'--index {index_path} ' +\n",
    "                                 '--generator DefaultLuceneDocumentGenerator ' +\n",
    "                                 '--threads 1 --storeRaw')\n",
    "        if execute_code != 0:\n",
    "            raise Exception('Indexing Failed!')\n",
    "        else:\n",
    "            print('Indexing Success!')\n",
    "            \n",
    "    def _get_results(self, qid, hits:List):\n",
    "        results = []\n",
    "        \n",
    "        for i, hit in enumerate(hits):\n",
    "            docid = hit.docid\n",
    "            content = json.loads(hits[i].raw)['contents']\n",
    "            bm25_score = hit.score\n",
    "            result = {'rank': i,\n",
    "                      'qid': qid,\n",
    "                      'docid': docid, \n",
    "                      'bm25_score': bm25_score,\n",
    "                      'content': content}\n",
    "            results.append(result)\n",
    "            \n",
    "        return results\n",
    "    \n",
    "    def search(self, qid, query_text:str, k:int=10):\n",
    "        hits = self.searcher.search(query_text, k=k,)\n",
    "        search_results  = self._get_results(qid, hits)\n",
    "        \n",
    "        return search_results\n",
    "    \n",
    "    def batch_search(self, qids, query_texts: List[str], k:int=10):\n",
    "        batch_hits = self.searcher.batch_search(query_texts, qids, k=k, threads=multiprocessing.cpu_count())\n",
    "        bsearch_results = {}\n",
    "        \n",
    "        for qid, hits in batch_hits.items():\n",
    "            bsearch_results[qid] = self._get_results(qid, hits)\n",
    "        \n",
    "        return bsearch_results"
   ]
  },
  {
   "cell_type": "code",
   "execution_count": 7,
   "metadata": {},
   "outputs": [],
   "source": [
    "index_path = os.path.join('./indexes', 'lucene-index.nfcorpus')\n",
    "bm25_retriever = BM25Retriever('collections/nfcorpus/pyserini-corpus/', index_path)"
   ]
  },
  {
   "cell_type": "code",
   "execution_count": 8,
   "metadata": {},
   "outputs": [],
   "source": [
    "def read_jsonl(jsonl_path:str):\n",
    "    with open(jsonl_path, 'r') as f:\n",
    "        lines = f.readlines()\n",
    "        result = [json.loads(line) for line in lines]\n",
    "        return result"
   ]
  },
  {
   "cell_type": "code",
   "execution_count": 25,
   "metadata": {},
   "outputs": [
    {
     "data": {
      "text/plain": [
       "{'_id': 'PLAIN-3',\n",
       " 'text': 'Breast Cancer Cells Feed on Cholesterol',\n",
       " 'metadata': {'url': 'http://nutritionfacts.org/2015/07/14/breast-cancer-cells-feed-on-cholesterol/'}}"
      ]
     },
     "execution_count": 25,
     "metadata": {},
     "output_type": "execute_result"
    }
   ],
   "source": [
    "queries = read_jsonl(queries_jsonl_path)\n",
    "queries[0]"
   ]
  },
  {
   "cell_type": "code",
   "execution_count": 40,
   "metadata": {},
   "outputs": [
    {
     "data": {
      "text/plain": [
       "[[{'rank': 0,\n",
       "   'qid': 'PLAIN-3',\n",
       "   'docid': 'MED-2434',\n",
       "   'bm25_score': 6.411600112915039,\n",
       "   'content': 'High ACAT1 expression in estrogen receptor negative basal-like breast cancer cells is associated with LDL-induced proliferation. The specific role of dietary fat in breast cancer progression is unclear, although a low-fat diet was associated with decreased recurrence of estrogen receptor alpha negative (ER(-)) breast cancer. ER(-) basal-like MDA-MB-231 and MDA-MB-436 breast cancer cell lines contained a greater number of cytoplasmic lipid droplets compared to luminal ER(+) MCF-7 cells. Therefore, we studied lipid storage functions in these cells. Both triacylglycerol and cholesteryl ester (CE) concentrations were higher in the ER(-) cells, but the ability to synthesize CE distinguished the two types of breast cancer cells. Higher baseline, oleic acid- and LDL-stimulated CE concentrations were found in ER(-) compared to ER(+) cells. The differences corresponded to greater mRNA and protein levels of acyl-CoA:cholesterol acyltransferase 1 (ACAT1), higher ACAT activity, higher caveolin-1 protein levels, greater LDL uptake, and lower de novo cholesterol synthesis in ER(-) cells. Human LDL stimulated proliferation of ER(-) MDA-MB-231 cells, but had little effect on proliferation of ER(+) MCF-7 cells. The functional significance of these findings was demonstrated by the observation that the ACAT inhibitor CP-113,818 reduced proliferation of breast cancer cells, and specifically reduced LDL-induced proliferation of ER(-) cells. Taken together, our studies show that a greater ability to take up, store and utilize exogenous cholesterol confers a proliferative advantage to basal-like ER(-) breast cancer cells. Differences in lipid uptake and storage capability may at least partially explain the differential effect of a low-fat diet on human breast cancer recurrence.'},\n",
       "  {'rank': 1,\n",
       "   'qid': 'PLAIN-3',\n",
       "   'docid': 'MED-2427',\n",
       "   'bm25_score': 6.073200225830078,\n",
       "   'content': 'Elevated Levels of Cholesterol-Rich Lipid Rafts in Cancer Cells Are Correlated with Apoptosis Sensitivity Induced by Cholesterol-Depleting Agents Lipid rafts/caveolae are membrane platforms for signaling molecules that regulate various cellular functions, including cell survival. To better understand the role of rafts in tumor progression and therapeutics, we investigated the effect of raft disruption on cell viability and compared raft levels in human cancer cell lines versus their normal counterparts. Here, we report that cholesterol depletion using methyl-β cyclodextrin caused anoikis-like apoptosis, which in A431 cells involved decreased raft levels, Bcl-xL down-regulation, caspase-3 activation, and Akt inactivation regardless of epidermal growth factor receptor activation. Cholesterol repletion replenished rafts on the cell surface and restored Akt activation and cell viability. Moreover, the breast cancer and the prostate cancer cell lines contained more lipid rafts and were more sensitive to cholesterol depletion-induced cell death than their normal counterparts. These results indicate that cancer cells contain increased levels of rafts and suggest a potential use of raft-modulating agents as anti-cancer drugs.'},\n",
       "  {'rank': 2,\n",
       "   'qid': 'PLAIN-3',\n",
       "   'docid': 'MED-1227',\n",
       "   'bm25_score': 5.2428998947143555,\n",
       "   'content': 'Do breast-feeding and delayed introduction of solid foods protect against subsequent obesity? To correct methodologic flaws (Type II error, confounding variables, and nonblinding) in previous studies relating infant feeding to later obesity, we conducted case-control studies of 639 patients 12 to 18 years of age attending our Adolescent Clinic, and 533 similarly aged healthy children attending a Montreal high school. Each subject was classified as either obese, overweight, or nonobese based on measurements of height, weight, and triceps and subscapular skinfolds. Feeding history, family history, and demographic data were later ascertained \"blindly\" by telephone interview. Analysis of the raw data revealed a significantly elevated estimated relative risk of not breast-feeding and a significant trend for rates of breast-feeding among the three weight groups. The magnitude of the protective effect appeared to rise slightly with increased duration of breast-feeding. Delayed introduction of solid foods provided little if any additional benefit. Several demographic and clinical variables proved to be confounding, but the significant protective effect of breast-feeding persisted even after controlling for confounders. We conclude that breast-feeding does protect against later obesity and attribute the conflicting results of previous studies to insufficient attention to methodologic standards.'},\n",
       "  {'rank': 3,\n",
       "   'qid': 'PLAIN-3',\n",
       "   'docid': 'MED-4173',\n",
       "   'bm25_score': 5.030700206756592,\n",
       "   'content': 'Chronic disease and infant nutrition: is it significant to public health? OBJECTIVE: To assess the public health significance of premature weaning of infants from breast milk on later-life risk of chronic illness. DESIGN: A review and summary of recent meta-analyses of studies linking premature weaning from breast milk with later-life chronic disease risk is presented followed by an estimation of the approximate exposure in a developed Western country, based on historical breast-feeding prevalence data for Australia since 1927. The population-attributable proportion of chronic disease associated with current patterns of artificial feeding in infancy is estimated. RESULTS: After adjustment for major confounding variables, current research suggests that the risks of chronic disease are 30-200 % higher in those who were not breast-fed compared to those who were breast-fed in infancy. Exposure to premature weaning ranges from 20 % to 90 % in post-World War II age cohorts. Overall, the attributable proportion of chronic disease in the population is estimated at 6-24 % for a 30 % exposure to premature weaning. CONCLUSIONS: Breast-feeding is of public health significance in preventing chronic disease. There is a small but consistent effect of premature weaning from breast milk in increasing later-life chronic disease risk. Risk exposure in the Australian population is substantial. Approximately 90 % of current 35-45-year-olds were weaned from breast-feeding by 6 months of age. Encouraging greater duration and exclusivity of breast-feeding is a potential avenue for reducing future chronic disease burden and health system costs.'},\n",
       "  {'rank': 4,\n",
       "   'qid': 'PLAIN-3',\n",
       "   'docid': 'MED-2774',\n",
       "   'bm25_score': 4.97790002822876,\n",
       "   'content': \"Milk stimulates growth of prostate cancer cells in culture. Concern has been expressed about the fact that cows' milk contains estrogens and could stimulate the growth of hormone-sensitive tumors. In this study, organic cows' milk and two commercial substitutes were digested in vitro and tested for their effects on the growth of cultures of prostate and breast cancer cells. Cows' milk stimulated the growth of LNCaP prostate cancer cells in each of 14 separate experiments, producing an average increase in growth rate of over 30%. In contrast, almond milk suppressed the growth of these cells by over 30%. Neither cows' milk nor almond milk affected the growth of MCF-7 breast cancer cells or AsPC-1 pancreatic cancer cells significantly. Soy milk increased the growth rate of the breast cancer cells. These data indicate that prostate and breast cancer patients should be cautioned about the possible promotional effects of commercial dairy products and their substitutes.\"},\n",
       "  {'rank': 5,\n",
       "   'qid': 'PLAIN-3',\n",
       "   'docid': 'MED-4880',\n",
       "   'bm25_score': 4.926300048828125,\n",
       "   'content': 'Effects of very-low-carbohydrate (horsemeat- or beef-based) diets and restricted feeding on weight gain, feed and energy efficiency, as well as ser... BACKGROUND/AIMS: The beneficial or harmful effect of the low-carbohydrate (low-carb), high-protein, high-fat diet (Atkins diet) has not been clearly demonstrated. We determined the effect of a low-carb diet and restricted feeding (70% ad libitum intake) on serum levels of cholesterol, triacylglycerol, glucose, ketone bodies and insulin in rats. METHODS: In experiment 1, each of 4 groups with 10 adult rats was assigned to a high-carb diet (AIN-93G) + ad libitum intake or restricted feeding, or a low-carb diet (53% horsemeat) + ad libitum intake or restricted feeding (2 x 2 factorial). In experiment 2, each of 3 groups with 10 adult rats was assigned to a control (AIN-93G) or low-carb diets (53% beef or horsemeat). RESULTS: Restricted feeding and the low-carb diet reduced (p<0.01) serum triacylglycerol compared with ad libitum intake and the AIN-93G diet, respectively (experiment 1). The dietary effect on serum total cholesterol, high-density or low-density lipid cholesterol appeared to be inconsistent, but restricted feeding increased the low-density lipoprotein cholesterol level. The serum ketone body level was increased by the low-carb diet compared with AIN-93G (experiment 2). CONCLUSION: Restricted feeding and a low-carb diet are beneficial for alleviating cardiovascular disease risk factors, and their effects are additive, restricted feeding being more pronounced. Copyright 2009 S. Karger AG, Basel.'},\n",
       "  {'rank': 6,\n",
       "   'qid': 'PLAIN-3',\n",
       "   'docid': 'MED-4759',\n",
       "   'bm25_score': 4.9166998863220215,\n",
       "   'content': 'Sex Hormone-Binding Globulin (SHBG), estradiol and breast cancer. The human serum Sex Hormone-Binding Globulin (SHBG) plays an important role in breast cancer pathophysiology and risk definition, since it regulates the bioavailable fraction of circulating estradiol. We here summarize data reported over the years concerning the involvement of SHBG and SHBG polymorphisms in the definition of breast cancer risk. We also report what is known about the direct action of SHBG in breast cancer cells, illustrating its interaction with these cells and the subsequent initiation of a specific intracellular pathway leading to cross-talk with the estradiol-activated pathway and, finally, to the inhibition of several effects of estradiol in breast cancer cells. In conclusion, as a result of its unique property of regulating the estrogen free fraction and cross-talking with the estradiol pathways, by inhibiting estradiol-induced breast cancer cell growth and proliferation, SHBG is associated with a reduced risk of developing the neoplasm after estrogen exposure. 2009 Elsevier Ireland Ltd. All rights reserved.'},\n",
       "  {'rank': 7,\n",
       "   'qid': 'PLAIN-3',\n",
       "   'docid': 'MED-4536',\n",
       "   'bm25_score': 4.899499893188477,\n",
       "   'content': 'Potential of traditional ayurvedic formulation, Triphala, as a novel anticancer drug. The cytotoxic effects of aqueous extract of Triphala, an ayurvedic formulation, were investigated on human breast cancer cell line (MCF-7) and a transplantable mouse thymic lymphoma (barcl-95). The viability of treated cells was found to decrease with the increasing concentrations of Triphala. On the other hand, treatment of normal breast epithelial cells, MCF-10 F, human peripheral blood mononuclear cells, mouse liver and spleen cells, with similar concentrations of Triphala did not affect their cytotoxicity significantly. The drug treatment was found to induce apoptosis in MCF-7 and barcl-95 cells in vitro as determined by annexin-V fluorescence and proportion of apoptotic cells was found dependent on Triphala concentration. MCF-7 cells treated with Triphala when subjected to single cell gel electrophoresis, revealed a pattern of DNA damage, characteristic of apoptosis. Studies on Triphala treated MCF-7 and barcl-95 cells showed significant increase in intracellular reactive oxygen species (ROS) in a concentration dependent manner. ROS increase was, however, found to be insignificant in MCF-10 F as well as in murine spleen and liver normal cells. In vivo, direct oral feeding of Triphala to mice (40 mg/kg body weight) transplanted with barcl-95 produced significant reduction in tumor growth as evaluated by tumor volume measurement. It was also found that apoptosis was significantly higher in the excised tumor tissue of Triphala fed mice as compared to the control, suggesting the involvement of apoptosis in tumor growth reduction. These results suggest that Triphala possessed ability to induce cytotoxicity in tumor cells but spared the normal cells. The differential effect of Triphala on normal and tumor cells seems to be related to its ability to evoke differential response in intracellular ROS generation. The differential response of normal and tumor cells to Triphala in vitro and the substantial regression of transplanted tumor in mice fed with Triphala points to its potential use as an anticancer drug for clinical treatment.'},\n",
       "  {'rank': 8,\n",
       "   'qid': 'PLAIN-3',\n",
       "   'docid': 'MED-4096',\n",
       "   'bm25_score': 4.884300231933594,\n",
       "   'content': \"Use of statistics to assess the global burden of breast cancer. A variety of statistics are used to quantify the burden (occurrence and outcome) of cancer generally and of breast cancer specifically. When undertaking any cancer control program, understanding these statistics, their source, and their quality is important for assessing the current situation, allocating resources to different control strategies, and evaluating progress. Two core statistics are the cancer incidence rate and the cancer mortality rate, which provide estimates of the average risk of acquiring and of dying from the disease, respectively. About 16% of the world's population is covered by registration systems that produce cancer incidence statistics, while mortality data are available for about 29%. Breast cancer incidence and mortality vary considerably by world region. In general, the incidence is high (greater than 80 per 100,000) in developed regions of the world and low (less than 30 per 100,000), though increasing, in developing regions; the range of mortality rates is much less (approximately 6-23 per 100,000) because of the more favorable survival of breast cancer in (high-incidence) developed regions. The incidence of breast cancer is increasing almost everywhere. This unfavorable trend is due in part to increases in risk factors (decreased childbearing and breast-feeding, increased exogenous hormone exposure, and detrimental dietary and lifestyle changes, including obesity and less physical activity). On the other hand, mortality is now decreasing in many high-risk countries due to a combination of intensified early detection efforts and the introduction of mammographic screening, resulting in the diagnosis of more small, early stage tumors, and advances in treatment.\"},\n",
       "  {'rank': 9,\n",
       "   'qid': 'PLAIN-3',\n",
       "   'docid': 'MED-4117',\n",
       "   'bm25_score': 4.882699966430664,\n",
       "   'content': 'Immunological enhancement of breast cancer. Breast cancer is a complex disease. Its aetiology is multifactorial, its period of development can span decades, and its clinical course is highly variable. Evaluation of the role of the immune response in either the development or control of breast cancer is also complex. Nevertheless, there is substantial information that in this disease, the immune response is not a host defence reaction and may even serve to facilitate cancer development. This evidence comes from a variety of sources including clinical-pathological investigations in women that show a correlation between the intensity of lymphocytic infiltration into the tumour mass with poor prognosis, studies in breast cancer patients that demonstrate a similar correlation between delayed hypersensitivity reactivity or in vitro assays of immune reactivity to tumour cell membranes or non-specific antigens and poor prognosis, and analyses of cancer incidence in chronically immunosuppressed, kidney transplant recipients who develop an unexpectedly low incidence of breast cancer. The overall conclusions from these human studies are corroborated by observations in mouse mammary tumour models that also demonstrate immune enhancement of breast cell proliferation in vitro and of breast cancer development in vivo. Potential mechanisms for these effects include production, by inflammatory cell infiltrates, of direct or indirect modulators of breast cell growth, e.g. cytokines, peptide or steroid hormones, enzymes involved in steroid metabolism, as well as of antibodies to growth factors or their receptors. These immune facilitatory mechanisms must be overcome if immune-based therapies are to be applied successfully in breast cancer.'}],\n",
       " [{'rank': 0,\n",
       "   'qid': 'PLAIN-4',\n",
       "   'docid': 'MED-2646',\n",
       "   'bm25_score': 8.17710018157959,\n",
       "   'content': 'Do fast foods cause asthma, rhinoconjunctivitis and eczema? Global findings from the International Study of Asthma and Allergies in Childhood (ISAA... BACKGROUND: Certain foods may increase or decrease the risk of developing asthma, rhinoconjunctivitis and eczema. We explored the impact of the intake of types of food on these diseases in Phase Three of the International Study of Asthma and Allergies in Childhood. METHODS: Written questionnaires on the symptom prevalence of asthma, rhinoconjunctivitis and eczema and types and frequency of food intake over the past 12 months were completed by 13-14-year-old adolescents and by the parents/guardians of 6-7-year-old children. Prevalence ORs were estimated using logistic regression, adjusting for confounders, and using a random (mixed) effects model. RESULTS: For adolescents and children, a potential protective effect on severe asthma was associated with consumption of fruit ≥3 times per week (OR 0.89, 95% CI 0.82 to 0.97; OR 0.86, 95% CI 0.76 to 0.97, respectively). An increased risk of severe asthma in adolescents and children was associated with the consumption of fast food ≥3 times per week (OR 1.39, 95% CI 1.30 to 1.49; OR 1.27, 95% CI 1.13 to 1.42, respectively), as well as an increased risk of severe rhinoconjunctivitis and severe eczema. Similar patterns for both ages were observed for regional analyses, and were consistent with gender and affluence categories and with current symptoms of all three conditions. CONCLUSIONS: If the association between fast foods and the symptom prevalence of asthma, rhinoconjunctivitis and eczema is causal, then the findings have major public health significance owing to the rising consumption of fast foods globally.'},\n",
       "  {'rank': 1,\n",
       "   'qid': 'PLAIN-4',\n",
       "   'docid': 'MED-2456',\n",
       "   'bm25_score': 7.995800018310547,\n",
       "   'content': 'Diet and asthma, allergic rhinoconjunctivitis and atopic eczema symptom prevalence: an ecological analysis of the International Study of Asthma and... Several studies have suggested that the increasing prevalence of symptoms of asthma, rhinitis and eczema, could be associated with dietary factors. In the present paper, a global analysis of prevalence rates of wheeze, allergic rhinoconjunctivitis and atopic eczema was performed in relation to diet, as defined by national food intake data. Analyses were based on the International Study of Asthma and Allergies in Childhood (ISAAC) data for 6-7 and 13-14 yr old children. Symptoms of wheeze, allergic rhinoconjunctivitis and atopic eczema symptom prevalence were regressed against per capita food intake, and adjusted for gross national product to account for economic development. Dietary data were based on 1995 Food and Agriculture Organisation of the United Nations data for 53 of the 56 countries that took part in ISAAC phase I (1994/1995). The 13-14 year age group showed a consistent pattern of decreases in symptoms of wheeze (current and severe), allergic rhinoconjunctivitis and atopic eczema, associated with increased per capita consumption of calories from cereal and rice, protein from cereals and nuts, starch, as well as vegetables and vegetable nutrients. The video questionnaire data for 13-14 yr olds and the ISAAC data for 6-7 yr olds showed similar patterns for these foods. A consistent inverse relationship was seen between prevalence rates of the three conditions and the intake of starch, cereals, and vegetables. If these findings could be generalised, and if the average daily consumption of these foods increased, it is speculated that an important decrease in symptom prevalence may be achieved.'},\n",
       "  {'rank': 2,\n",
       "   'qid': 'PLAIN-4',\n",
       "   'docid': 'MED-2474',\n",
       "   'bm25_score': 7.717599868774414,\n",
       "   'content': 'The International Study of Asthma and Allergies in Childhood (ISAAC) Phase Three: a global synthesis. This ISAAC Phase Three synthesis provides summarised information on the main findings of the study, regional tables and figures related to the prevalence and severity of current symptoms of asthma, rhinoconjunctivitis and eczema in the main regions of the world. The large number of surveyed children (≈1,200,000), the large number of centres (233) and countries (98) that participated in ISAAC Phase Three makes this study the most comprehensive survey of these diseases ever undertaken. Globally, the prevalence for current asthma, rhinoconjunctivitis and eczema in the 13-14-year age group was 14.1%, 14.6% and 7.3%, respectively. In the 6-7-year age group the prevalence for current asthma, rhinoconjunctivitis and eczema was 11.7%, 8.5% and 7.9%, respectively. The study shows a wide variability in the prevalence and severity of asthma, rhinoconjunctivitis and eczema which occurs not just between regions and countries but between centres in the same country and centres in the same city. This study definitively establishes that the prevalence of those diseases can be very high in non-affluent centres with low socioeconomic conditions. The large variability also suggests a crucial role of local environment characteristics to determine the differences in prevalence between one place and another. Thus, ISAAC Phase Three has provided a large body of epidemiological information on asthma, rhinoconjunctivitis and eczema in childhood from contrasting environments which is expected to yield new clues about the aetiology of those conditions and reasons for their marked global variability. Copyright © 2012 SEICAP. Published by Elsevier Espana. All rights reserved.'},\n",
       "  {'rank': 3,\n",
       "   'qid': 'PLAIN-4',\n",
       "   'docid': 'MED-2476',\n",
       "   'bm25_score': 7.251800060272217,\n",
       "   'content': 'Diet, infection and wheezy illness: lessons from adults. An increase in asthma and atopic disease has been recorded in many countries where society has become more prosperous. We have investigated two possible explanations: a reduction in childhood infections and a change in diet. In a cohort of people followed up since 1964, originally selected as a random sample of primary school children, we have investigated the relevance of family size and the common childhood infectious diseases to development of eczema, hay fever and asthma. Although membership of a large family reduced risks of hay fever and eczema (but not asthma), this was not explained by the infections the child had suffered. Indeed, the more infections the child had had, the greater the likelihood of asthma, although measles gave a modest measure of protection. We have investigated dietary factors in two separate studies. In the first, we have shown the risks of bronchial hyper-reactivity are increased seven-fold among those with the lowest intake of vitamin C, while the lowest intake of saturated fats gave a 10-fold protection. In the second, we have shown that the risk of adult-onset wheezy illness is increased five-fold by the lowest intake of vitamin E and doubled by the lowest intake of vitamin C. These results were supported by direct measurements of the vitamins and triglycerides in plasma. We have proposed that changes in the diet of pregnant women may have reflected those observed in the population as a whole and that these may have resulted in the birth of cohorts of children predisposed to atopy and asthma. The direct test of this is to study the diet and nutritional status of a large cohort of pregnant women and to follow their offspring forward. This is our current research.'},\n",
       "  {'rank': 4,\n",
       "   'qid': 'PLAIN-4',\n",
       "   'docid': 'MED-2471',\n",
       "   'bm25_score': 6.57390022277832,\n",
       "   'content': 'Which population level environmental factors are associated with asthma, rhinoconjunctivitis and eczema? Review of the ecological analyses of ISAAC Phase One The International Study of Asthma and Allergies in Childhood (ISAAC) Phase One showed large worldwide variations in the prevalence of symptoms of asthma, rhinoconjunctivitis and eczema, up to 10 to 20 fold between countries. Ecological analyses were undertaken with ISAAC Phase One data to explore factors that may have contributed to these variations, and are summarised and reviewed here. In ISAAC Phase One the prevalence of symptoms in the past 12 months of asthma, rhinoconjunctivitis and eczema were estimated from studies in 463,801 children aged 13 - 14 years in 155 centres in 56 countries, and in 257,800 children aged 6-7 years in 91 centres in 38 countries. Ecological analyses were undertaken between symptom prevalence and the following: Gross National Product per capita (GNP), food intake, immunisation rates, tuberculosis notifications, climatic factors, tobacco consumption, pollen, antibiotic sales, paracetamol sales, and outdoor air pollution. Symptom prevalence of all three conditions was positively associated with GNP, trans fatty acids, paracetamol, and women smoking, and inversely associated with food of plant origin, pollen, immunisations, tuberculosis notifications, air pollution, and men smoking. The magnitude of these associations was small, but consistent in direction between conditions. There were mixed associations of climate and antibiotic sales with symptom prevalence. The potential causality of these associations warrant further investigation. Factors which prevent the development of these conditions, or where there is an absence of a positive correlation at a population level may be as important from the policy viewpoint as a focus on the positive risk factors. Interventions based on small associations may have the potential for a large public health benefit.'},\n",
       "  {'rank': 5,\n",
       "   'qid': 'PLAIN-4',\n",
       "   'docid': 'MED-3685',\n",
       "   'bm25_score': 6.453700065612793,\n",
       "   'content': \"Caesarean delivery and risk of atopy and allergic disease: meta-analyses. BACKGROUND: Studies of delivery by caesarean section (c-section) and the offspring's risk of allergic diseases are of current interest due to concerns about the increased use of c-section in many countries. However, previous studies have reported inconsistent findings. OBJECTIVE: We investigated whether delivery by c-section is associated with an increased risk of atopy and allergic disease by reviewing the literature, performing a meta-analysis, and assessing publication bias. METHODS: We used a systematic literature search of MEDLINE (1966 to May 2007). Six common allergic outcomes were included: food allergy/food atopy, inhalant atopy, eczema/atopic dermatitis, allergic rhinitis, asthma, and hospitalization for asthma. For each outcome a meta-analysis was performed, where a summary odds ratio (OR) was calculated taking into account heterogeneity between the study-specific relative risks. Publication bias was assessed using the funnel plot method. RESULTS: We identified 26 studies on delivery by c-section and one or more of the six allergic outcomes. C-section was associated with an increased summary OR of food allergy/food atopy (OR 1.32, 95% CI 1.12-1.55; six studies), allergic rhinitis (OR 1.23, 95% CI 1.12-1.35; seven studies), asthma (OR 1.18, 95% CI 1.05-1.32; 13 studies), and hospitalization for asthma (OR 1.21, 95% CI 1.12-1.31; seven studies), whereas there was no association with inhalant atopy (OR 1.06, 95% CI 0.82-1.38; four studies) and eczema/atopic dermatitis (OR 1.03, 95% CI 0.98-1.09; six studies). Funnel plots indicated that the association with food allergy/food atopy could be difficult to interpret due to publication bias. For each significant association with an allergic outcome, only 1-4% of cases were attributable to c-section. CONCLUSION: Delivery by c-section is associated with a moderate risk increase for allergic rhinitis, asthma, hospitalization for asthma, and perhaps food allergy/food atopy, but not with inhalant atopy or atopic dermatitis. The increased use of c-section during the last decades is unlikely to have contributed much to the allergy epidemic observed during the same period.\"},\n",
       "  {'rank': 6,\n",
       "   'qid': 'PLAIN-4',\n",
       "   'docid': 'MED-4548',\n",
       "   'bm25_score': 5.7652997970581055,\n",
       "   'content': 'Common Household Chemicals and the Allergy Risks in Pre-School Age Children Background The risk of indoor exposure to volatile organic compounds (VOCs) on allergic airway diseases in children remains unknown. Objective We examined the residential concentrations of VOCs, emitted from building materials, paints, furniture, and other lifestyle practices and the risks of multiple allergic diseases as well as the IgE-sensitization in pre-school age children in Sweden. Methods In a case-control investigation (198 case children with asthma and allergy and 202 healthy controls), air samples were collected in the room where the child slept. The air samples were analyzed for the levels of eight classes of VOCs. Results A natural-log unit of summed propylene glycol and glycol ethers (PGEs) in bedroom air (equal to interquartile range, or 3.43 – 15.65 µg/m3) was associated with 1.5-fold greater likelihood of being a case (95% CI, 1.1 – 2.1), 1.5-fold greater likelihood of asthma (95% CI, 1.0 – 2.3), 2.8-fold greater likelihood of rhinitis (95% CI, 1.6 – 4.7), and 1.6-fold greater likelihood of eczema (95% CI, 1.1 – 2.3), accounting for gender, secondhand smoke, allergies in both parents, wet cleaning with chemical agents, construction period of the building, limonene, cat and dog allergens, butyl benzyl phthalate (BBzP), and di(2-ethylhexyl)phthalate (DEHP). When the analysis was restricted to the cases, the same unit concentration was associated with 1.8-fold greater likelihood of IgE-sensitization (95% CI, 1.1 – 2.8) compared to the non-IgE sensitized cases. No similar associations were found for the other classes of VOCs. Conclusion We propose a novel hypothesis that PGEs in indoor air exacerbate and/or induce the multiple allergic symptoms, asthma, rhinitis and eczema, as well as IgE sensitization respectively.'},\n",
       "  {'rank': 7,\n",
       "   'qid': 'PLAIN-4',\n",
       "   'docid': 'MED-4551',\n",
       "   'bm25_score': 5.249300003051758,\n",
       "   'content': \"Maternal meat and fat consumption during pregnancy and suspected atopic eczema in Japanese infants aged 3-4 months: the Osaka Maternal and Child He... Interest has increased in the possibility that maternal dietary intake during pregnancy might influence the development of allergic disorders in children. The present prospective study examined the association of maternal intake of selected foods high in fatty acids and specific types of fatty acids during pregnancy with the risk of suspected atopic eczema among Japanese infants aged 3-4 months. Subjects were 771 mother-child pairs. Information on maternal dietary intake during pregnancy was assessed with a validated self-administered diet history questionnaire. The term 'suspected atopic eczema' was used to define an outcome based on results of our questionnaire completed by mothers 3-4 months postpartum. The risk of suspected atopic eczema was 8.4% (n = 65). Higher maternal intake of meat during pregnancy was significantly associated with an increased risk of suspected atopic eczema in the offspring: the multivariate odds ratio (OR) for the highest vs. lowest quartile was 2.59 [95% confidence interval (CI): 1.15-6.17, p for trend = 0.01]. The positive association was strengthened when the definition of the outcome was confined to a definite physician's diagnosis of atopic eczema (n = 35): the multivariate OR between extreme quartiles was 3.53 (95% CI: 1.19-12.23, p for trend = 0.02). No material exposure-response relationships were observed between maternal intake of eggs, dairy products, fish, total fat, saturated fatty acids, monounsaturated fatty acids, n-3 polyunsaturated fatty acids, alpha-linolenic acid, eicosapentaenoic acid, docosahexaenoic acid, n-6 polyunsaturated fatty acids, linoleic acid, arachidonic acid and cholesterol and the ratio of n-3 to n-6 polyunsaturated fatty acid consumption and the risk of suspected atopic eczema. Higher maternal meat intake may increase the risk of infantile atopic eczema, whereas we found no evidence that maternal intake of fish and n-3 polyunsaturated fatty acids are preventive against infantile atopic eczema. (c) 2009 John Wiley & Sons A/S\"},\n",
       "  {'rank': 8,\n",
       "   'qid': 'PLAIN-4',\n",
       "   'docid': 'MED-2649',\n",
       "   'bm25_score': 5.1350998878479,\n",
       "   'content': 'Dietary meat and fat intake and prevalence of rhinoconjunctivitis in pregnant Japanese women: baseline data from the Kyushu Okinawa Maternal and Child Health Study Background Dietary fat exerts numerous complex effects on proinflammatory and immunologic pathways. Several epidemiological studies have examined the relationships between intake of fatty acids and/or foods high in fat and allergic rhinitis, but have provided conflicting findings. The current cross-sectional study investigated such relationships in Japan. Methods Study subjects were 1745 pregnant women. The definition of rhinoconjunctivitis was based on criteria from the International Study of Asthma and Allergies in Childhood. Information on dietary factors was collected using a validated self-administered diet history questionnaire. Adjustment was made for age; gestation; region of residence; number of older siblings; number of children; smoking; secondhand smoke exposure at home and at work; family history of asthma, atopic eczema, and allergic rhinitis; household income; education; and body mass index. Results The prevalence of rhinoconjunctivitis in the past 12 months was 25.9%. Higher meat intake was significantly associated with an increased prevalence of rhinoconjunctivitis: the adjusted odds ratio between extreme quartiles was 1.71 (95% confidence interval: 1.25-2.35, P for trend = 0.002). No measurable association was found between fish intake and rhinoconjunctivitis. Intake of total fat, saturated fatty acids, monounsaturated fatty acids, n-3 polyunsaturated fatty acids, α-linolenic acid, eicosapentaenoic acid, docosahexaenoic acid, n-6 polyunsaturated fatty acids, linoleic acid, arachidonic acid, and cholesterol and the ratio of n-3 to n-6 polyunsaturated fatty acid intake were not evidently related to the prevalence of rhinoconjunctivitis. Conclusions The current results suggest that meat intake may be positively associated with the prevalence of rhinoconjunctivitis in young adult Japanese women.'},\n",
       "  {'rank': 9,\n",
       "   'qid': 'PLAIN-4',\n",
       "   'docid': 'MED-2464',\n",
       "   'bm25_score': 5.075200080871582,\n",
       "   'content': \"Low vegetable intake is associated with allergic asthma and moderate-to-severe airway hyperresponsiveness. BACKGROUND: In recent decades, children's diet quality has changed and asthma prevalence has increased, although it remains unclear if these events are associated. OBJECTIVE: To examine children's total and component diet quality and asthma and airway hyperresponsiveness (AHR), a proxy for asthma severity. METHODS: Food frequency questionnaires adapted from the Nurses' Health Study and supplemented with foods whose nutrients which have garnered interest of late in relation to asthma were administered. From these data, diet quality scores (total and component), based on the Youth Healthy Eating Index (YHEI adapted) were developed. Asthma assessments were performed by pediatric allergists and classified by atopic status: Allergic asthma (≥1 positive skin prick test to common allergens >3 mm compared to negative control) versus non-allergic asthma (negative skin prick test). AHR was assessed via the Cockcroft technique. Participants included 270 boys (30% with asthma) and 206 girls (33% with asthma) involved in the 1995 Manitoba Prospective Cohort Study nested case-control study. Logistic regression was used to examine associations between diet quality and asthma, and multinomial logistic regression was used to examine associations between diet quality and AHR. RESULTS: Four hundred seventy six children (56.7% boys) were seen at 12.6 ± 0.5 years. Asthma and AHR prevalence were 26.2 and 53.8%, respectively. In fully adjusted models, high vegetable intake was protective against allergic asthma (OR 0.49; 95% CI 0.29-0.84; P < 0.009) and moderate/severe AHR (OR 0.58; 0.37-0.91; P < 0.019). CONCLUSIONS: Vegetable intake is inversely associated with allergic asthma and moderate/severe AHR. Copyright © 2012 Wiley Periodicals, Inc.\"}],\n",
       " [{'rank': 0,\n",
       "   'qid': 'PLAIN-5',\n",
       "   'docid': 'MED-2655',\n",
       "   'bm25_score': 5.353499889373779,\n",
       "   'content': 'Association of dietary soy genistein intake with lung function and asthma control: a post-hoc analysis of patients enrolled in a prospective multicentre clinical trial Background Broad dietary patterns have been linked to asthma but the relative contribution of specific nutrients is unclear. Soy genistein has important anti-inflammatory and other biological effects that might be beneficial in asthma. A positive association was previously reported between soy genistein intake and lung function but not with asthma exacerbations. Aims To conduct a post-hoc analysis of patients with inadequately controlled asthma enrolled in a prospective multicentre clinical trial to replicate this association. Methods A total of 300 study participants were included in the analysis. Dietary soy genistein intake was measured using the Block Soy Foods Screener. The level of soy genistein intake (little or no intake, moderate intake, or high intake) was compared with baseline lung function (pre-bronchodilator forced expiratory volume in 1 second (FEV1)) and asthma control (proportion of participants with an episode of poor asthma control (EPAC) and annualised rates of EPACs over a 6-month follow-up period. Results Participants with little or no genistein intake had a lower baseline FEV1 than those with a moderate or high intake (2.26L vs. 2.53L and 2.47L, respectively; p=0.01). EPACs were more common among those with no genistein intake than in those with a moderate or high intake (54% vs. 35% vs. 40%, respectively; p<0.001). These findings remained significant after adjustment for patient demographics and body mass index. Conclusions In patients with asthma, consumption of a diet with moderate to high amounts of soy genistein is associated with better lung function and better asthma control.'},\n",
       "  {'rank': 1,\n",
       "   'qid': 'PLAIN-5',\n",
       "   'docid': 'MED-3753',\n",
       "   'bm25_score': 4.819499969482422,\n",
       "   'content': \"What's in placebos: who knows? Analysis of randomized, controlled trials. BACKGROUND: No regulations govern placebo composition. The composition of placebos can influence trial outcomes and merits reporting. PURPOSE: To assess how often investigators specify the composition of placebos in randomized, placebo-controlled trials. DATA SOURCES: 4 English-language general and internal medicine journals with high impact factors. STUDY SELECTION: 3 reviewers screened titles and abstracts of the journals to identify randomized, placebo-controlled trials published from January 2008 to December 2009. DATA EXTRACTION: Reviewers independently abstracted data from the introduction and methods sections of identified articles, recording treatment type (pill, injection, or other) and whether placebo composition was stated. Discrepancies were resolved by consensus. DATA SYNTHESIS: Most studies did not disclose the composition of the study placebo. Disclosure was less common for pills than for injections and other treatments (8.2% vs. 26.7%; P = 0.002). LIMITATION: Journals with high impact factors may not be representative. CONCLUSION: Placebos were seldom described in randomized, controlled trials of pills or capsules. Because the nature of the placebo can influence trial outcomes, placebo formulation should be disclosed in reports of placebo-controlled trials.\"},\n",
       "  {'rank': 2,\n",
       "   'qid': 'PLAIN-5',\n",
       "   'docid': 'MED-901',\n",
       "   'bm25_score': 4.6793999671936035,\n",
       "   'content': \"Cow's milk allergy is associated with recurrent otitis media during childhood. To determine whether cow's milk allergy (CMA) in infancy is associated with recurrent otitis media (ROM) or other chronic ear infections, we conducted a cohort study by enrolling 56 milk-allergic and 204 control schoolchildren. We also studied the association between ear problems and different atopic manifestations. A higher proportion of children with CMA had had ROM. defined as at least 15 acute otitis media episodes by the age of 10 years (27%, vs 12%, p = 0.009), and had undergone adenoidectomy and or tympanostomy compared with the controls (48%, vs 28%, p = 0.005). However, this was only true of the children who had developed respiratory atopy. Asthma and/or allergic rhinitis, but not atopic dermatitis, posed a significant risk for ROM, while all the three atopic manifestations enhanced the risk for secretory otitis media. Positive skin prick tests with food, but not with inhaled allergens, tended to be associated with ear problems. In conclusion, we found that children with CMA in infancy, even when properly treated, had experienced significantly more ROM, the risk associating with concomitant development of respiratory atopy.\"},\n",
       "  {'rank': 3,\n",
       "   'qid': 'PLAIN-5',\n",
       "   'docid': 'MED-1011',\n",
       "   'bm25_score': 4.515900135040283,\n",
       "   'content': 'Placebos without Deception: A Randomized Controlled Trial in Irritable Bowel Syndrome Background Placebo treatment can significantly influence subjective symptoms. However, it is widely believed that response to placebo requires concealment or deception. We tested whether open-label placebo (non-deceptive and non-concealed administration) is superior to a no-treatment control with matched patient-provider interactions in the treatment of irritable bowel syndrome (IBS). Methods Two-group, randomized, controlled three week trial (August 2009-April 2010) conducted at a single academic center, involving 80 primarily female (70%) patients, mean age 47±18 with IBS diagnosed by Rome III criteria and with a score ≥150 on the IBS Symptom Severity Scale (IBS-SSS). Patients were randomized to either open-label placebo pills presented as “placebo pills made of an inert substance, like sugar pills, that have been shown in clinical studies to produce significant improvement in IBS symptoms through mind-body self-healing processes” or no-treatment controls with the same quality of interaction with providers. The primary outcome was IBS Global Improvement Scale (IBS-GIS). Secondary measures were IBS Symptom Severity Scale (IBS-SSS), IBS Adequate Relief (IBS-AR) and IBS Quality of Life (IBS-QoL). Findings Open-label placebo produced significantly higher mean (±SD) global improvement scores (IBS-GIS) at both 11-day midpoint (5.2±1.0 vs. 4.0±1.1, p<.001) and at 21-day endpoint (5.0±1.5 vs. 3.9±1.3, p\\u200a=\\u200a.002). Significant results were also observed at both time points for reduced symptom severity (IBS-SSS, p\\u200a=\\u200a.008 and p\\u200a=\\u200a.03) and adequate relief (IBS-AR, p\\u200a=\\u200a.02 and p\\u200a=\\u200a.03); and a trend favoring open-label placebo was observed for quality of life (IBS-QoL) at the 21-day endpoint (p\\u200a=\\u200a.08). Conclusion Placebos administered without deception may be an effective treatment for IBS. Further research is warranted in IBS, and perhaps other conditions, to elucidate whether physicians can benefit patients using placebos consistent with informed consent. Trial Registration ClinicalTrials.gov NCT01010191'},\n",
       "  {'rank': 4,\n",
       "   'qid': 'PLAIN-5',\n",
       "   'docid': 'MED-2482',\n",
       "   'bm25_score': 4.349599838256836,\n",
       "   'content': 'Randomized placebo-controlled trial of lactobacillus on asthmatic children with allergic rhinitis. Previous studies have suggested that probiotic administration may have therapeutic and/or preventive effects on atopic dermatitis in infants; however, its role in allergic airway diseases remains controversial. To determine whether daily supplementation with specific Lactobacillus gasseri A5 for 8 weeks can improve the clinical symptoms and immunoregulatory changes in school children suffering from asthma and allergic rhinitis (AR). We conducted a randomized, double-blind, placebo-controlled study on school children (age, 6-12 years) with asthma and AR. The eligible study subjects received either L. gasseri A5 (n = 49) or a placebo (n = 56) daily for 2 months. Pulmonary function tests were performed, and the clinical severity of asthma and AR was evaluated by the attending physicians in the study period. Diary cards with records of the day- and nighttime peak expiratory flow rates (PEFR), symptoms of asthma, and AR scores of the patients were used for measuring the outcome of the treatment. Immunological parameters such as the total IgE and cytokine production by the peripheral blood mononuclear cells (PBMCs) were determined before and after the probiotic treatments. Our results showed the pulmonary function and PEFR increased significantly, and the clinical symptom scores for asthma and AR decreased in the probiotic-treated patients as compared to the controls. Further, there was a significant reduction in the TNF-α, IFN-γ, IL-12, and IL-13 production by the PBMCs following the probiotic treatment. In conclusion, probiotic supplementation may have clinical benefits for school children suffering from allergic airway diseases such as asthma and AR.'},\n",
       "  {'rank': 5,\n",
       "   'qid': 'PLAIN-5',\n",
       "   'docid': 'MED-3931',\n",
       "   'bm25_score': 4.018199920654297,\n",
       "   'content': \"Pilot dietary study with normoproteic protein-redistributed plant-food diet and motor performance in patients with Parkinson's disease. Although a plant-based diet can provide some benefits in Parkinson's disease (PD), no study to date has evaluated the effectiveness of a plant-food diet in the management of the disease. In this pilot study, we compared the effect of a plant-food menu (PFD) and of a omnivorous menu on motor performance of 25 PD patients, 12 in the intervention group (PDi) and 13 in the control group (PDc). After 4 weeks, the PDi group showed a significant reduction (Mann-Whitney test) in the Unified Parkinson's Disease Rating Scale, total score (47.67 vs. 74.46, P = 0.008) and sub-score III motor performances (25.42 vs. 46.46, P = 0.001), and the modified Hoehn and Yahr Staging Scale (1.96 vs. 3.15, P = 0.005). These data suggest that PFD may be useful in the management of PD patients by improving their motor performances. Additional studies are needed in order to confirm these preliminary results.\"},\n",
       "  {'rank': 6,\n",
       "   'qid': 'PLAIN-5',\n",
       "   'docid': 'MED-2471',\n",
       "   'bm25_score': 3.97160005569458,\n",
       "   'content': 'Which population level environmental factors are associated with asthma, rhinoconjunctivitis and eczema? Review of the ecological analyses of ISAAC Phase One The International Study of Asthma and Allergies in Childhood (ISAAC) Phase One showed large worldwide variations in the prevalence of symptoms of asthma, rhinoconjunctivitis and eczema, up to 10 to 20 fold between countries. Ecological analyses were undertaken with ISAAC Phase One data to explore factors that may have contributed to these variations, and are summarised and reviewed here. In ISAAC Phase One the prevalence of symptoms in the past 12 months of asthma, rhinoconjunctivitis and eczema were estimated from studies in 463,801 children aged 13 - 14 years in 155 centres in 56 countries, and in 257,800 children aged 6-7 years in 91 centres in 38 countries. Ecological analyses were undertaken between symptom prevalence and the following: Gross National Product per capita (GNP), food intake, immunisation rates, tuberculosis notifications, climatic factors, tobacco consumption, pollen, antibiotic sales, paracetamol sales, and outdoor air pollution. Symptom prevalence of all three conditions was positively associated with GNP, trans fatty acids, paracetamol, and women smoking, and inversely associated with food of plant origin, pollen, immunisations, tuberculosis notifications, air pollution, and men smoking. The magnitude of these associations was small, but consistent in direction between conditions. There were mixed associations of climate and antibiotic sales with symptom prevalence. The potential causality of these associations warrant further investigation. Factors which prevent the development of these conditions, or where there is an absence of a positive correlation at a population level may be as important from the policy viewpoint as a focus on the positive risk factors. Interventions based on small associations may have the potential for a large public health benefit.'},\n",
       "  {'rank': 7,\n",
       "   'qid': 'PLAIN-5',\n",
       "   'docid': 'MED-947',\n",
       "   'bm25_score': 3.8965001106262207,\n",
       "   'content': 'Aloe versus silver sulfadiazine creams for second-degree burns: a randomized controlled study. PURPOSE: Burn injury is associated with a high incidence of death and disability; yet its management remains problematic and costly. We conducted this clinical study to evaluate the efficacy of aloe vera cream for partial thickness burn wounds and compare its results with those of silver sulfadiazine (SSD). METHODS: Thirty patients with similar types of second-degree burns at two sites on different parts of the body were included in this study. Each patient had one burn treated with topical SSD and one treated with aloe cream, randomly. RESULTS: The rate of re-epithelialization and healing of the partial thickness burns was significantly faster in the site treated with aloe than in the site treated with SSD (15.9 +/- 2 vs 18.73 +/- 2.65 days, respectively; P < 0.0001). The sites treated with aloe were completely healed in less than 16 days vs 19 days for the sites treated with SSD. CONCLUSION: These results clearly demonstrated the greater efficacy of aloe cream over SSD cream for treating second-degree burns.'},\n",
       "  {'rank': 8,\n",
       "   'qid': 'PLAIN-5',\n",
       "   'docid': 'MED-2884',\n",
       "   'bm25_score': 3.7644999027252197,\n",
       "   'content': 'A 12-wk egg intervention increases serum zeaxanthin and macular pigment optical density in women. Two carotenoids found in egg yolk, lutein and zeaxanthin, accumulate in the macular retina where they may reduce photostress. Increases in serum lutein and zeaxanthin were observed in previous egg interventions, but no study measured macular carotenoids. The objective of this project was to determine whether increased consumption of eggs would increase retinal lutein and zeaxanthin, or macular pigment. Twenty-four females, between 24 and 59 y, were assigned to a pill treatment (PILL) or 1 of 2 egg treatments for 12 wk. Individuals in the PILL treatment consumed 1 sugar-filled capsule/d. Individuals in the egg treatments consumed 6 eggs/wk, containing either 331 microg (EGG 1) or 964 microg (EGG 2) of lutein and zeaxanthin/yolk. Serum cholesterol, serum carotenoids, and macular pigment OD (MPOD) were measured at baseline and after 4, 8, and 12 wk of intervention. Serum cholesterol concentrations did not change in either egg treatment group, but total cholesterol (P = 0.04) and triglycerides (P = 0.02) increased in the PILL group. Serum zeaxanthin, but not serum lutein, increased in both the EGG 1 (P = 0.04) and EGG 2 (P = 0.01) groups. Likewise, MPOD increased in both the EGG 1 (P = 0.001) and EGG 2 (P = 0.049) groups. Although the aggregate concentration of carotenoid in 1 egg yolk may be modest relative to other sources, such as spinach, their bioavailability to the retina appears to be high. Increasing egg consumption to 6 eggs/wk may be an effective method to increase MPOD.'},\n",
       "  {'rank': 9,\n",
       "   'qid': 'PLAIN-5',\n",
       "   'docid': 'MED-3708',\n",
       "   'bm25_score': 3.7585999965667725,\n",
       "   'content': 'Is the asthma epidemic still ascending? Asthma is a phenotypically heterogeneous disorder of multifactorial origins that affects 300 million people suffering from asthma and more than 250,000 asthma-related deaths each year. Although treatment for asthma has improved, its prevalence continues to increase, particularly in low and middle income countries, or in some ethnic groups in which prevalence was previously low. Observed spatio-temporal variations in the increased prevalence of asthma depend on exposure to environmental factors. Recently, several arguments are also in favor of the involvement of host susceptibility and stress in the observed increase of asthma prevalence. Further\\xa0investigations are warranted to better understand mechanisms underlying asthma increase or stagnation. Copyright © 2012 Elsevier Inc. All rights reserved.'}]]"
      ]
     },
     "execution_count": 40,
     "metadata": {},
     "output_type": "execute_result"
    }
   ],
   "source": [
    "results = []\n",
    "for query in (queries[:3]):\n",
    "    result = bm25_retriever.search(qid=query['_id'], query_text=query['text'])\n",
    "    results.append(result)\n",
    "\n",
    "results"
   ]
  },
  {
   "cell_type": "code",
   "execution_count": 42,
   "metadata": {},
   "outputs": [
    {
     "data": {
      "text/plain": [
       "{'rank': 0,\n",
       " 'qid': 'PLAIN-4',\n",
       " 'docid': 'MED-2646',\n",
       " 'bm25_score': 8.17710018157959,\n",
       " 'content': 'Do fast foods cause asthma, rhinoconjunctivitis and eczema? Global findings from the International Study of Asthma and Allergies in Childhood (ISAA... BACKGROUND: Certain foods may increase or decrease the risk of developing asthma, rhinoconjunctivitis and eczema. We explored the impact of the intake of types of food on these diseases in Phase Three of the International Study of Asthma and Allergies in Childhood. METHODS: Written questionnaires on the symptom prevalence of asthma, rhinoconjunctivitis and eczema and types and frequency of food intake over the past 12 months were completed by 13-14-year-old adolescents and by the parents/guardians of 6-7-year-old children. Prevalence ORs were estimated using logistic regression, adjusting for confounders, and using a random (mixed) effects model. RESULTS: For adolescents and children, a potential protective effect on severe asthma was associated with consumption of fruit ≥3 times per week (OR 0.89, 95% CI 0.82 to 0.97; OR 0.86, 95% CI 0.76 to 0.97, respectively). An increased risk of severe asthma in adolescents and children was associated with the consumption of fast food ≥3 times per week (OR 1.39, 95% CI 1.30 to 1.49; OR 1.27, 95% CI 1.13 to 1.42, respectively), as well as an increased risk of severe rhinoconjunctivitis and severe eczema. Similar patterns for both ages were observed for regional analyses, and were consistent with gender and affluence categories and with current symptoms of all three conditions. CONCLUSIONS: If the association between fast foods and the symptom prevalence of asthma, rhinoconjunctivitis and eczema is causal, then the findings have major public health significance owing to the rising consumption of fast foods globally.'}"
      ]
     },
     "execution_count": 42,
     "metadata": {},
     "output_type": "execute_result"
    }
   ],
   "source": [
    "results = bm25_retriever.batch_search(qids=[query['_id'] for query in queries[:3]], query_texts=[query['text'] for query in queries[:3]])\n",
    "results['PLAIN-4'][0]"
   ]
  },
  {
   "cell_type": "markdown",
   "metadata": {},
   "source": [
    "### Rerank"
   ]
  },
  {
   "cell_type": "code",
   "execution_count": 30,
   "metadata": {},
   "outputs": [],
   "source": [
    "from typing import List \n",
    "from base import Reranker, Query, Text # pygaggle\n",
    "\n",
    "\n",
    "class GPTReranker(Reranker):\n",
    "    def __init__(self, model_name, use_cuda, max_len):\n",
    "        self.model = self.load_model(model_name, use_cuda)\n",
    "        self.tokenizer = self.load_tokenizer(model_name)\n",
    "        self.max_len = max_len\n",
    "    \n",
    "    def load_model(self, model_name:str, use_cuda:bool):\n",
    "        device = torch.device('cuda' if torch.cuda.is_available() & use_cuda else 'cpu')\n",
    "        model = AutoModelForCausalLM.from_pretrained(model_name, torch_dtype=torch.float16).to(device)\n",
    "        model.config.use_cache=True\n",
    "        return model\n",
    "    \n",
    "    def load_tokenizer(self, model_name:str):\n",
    "        tokenizer = AutoTokenizer.from_pretrained(model_name)\n",
    "        return tokenizer\n",
    "    \n",
    "    def score(self, dataset):\n",
    "        encodings = self.tokenizer(dataset, add_special_tokens=False, return_tensors='pt')\n",
    "        \n",
    "        dataset_len = encodings.input_ids.size(1)\n",
    "        \n",
    "    \n",
    "    # def rerank(self, query: Query, texts: List[Text]) -> List[Text]:\n",
    "    #     for text in texts:\n",
    "    #         result = self.tokenizer(query.text)\n",
    "    #         input_ids\n",
    "    #         attn_mask\n",
    "            \n",
    "        \n",
    "            \n",
    "        \n",
    "    #     return super().rerank(query, texts)\n",
    "    \n",
    "    # # similarity score\n",
    "    # # deft score(self, input_ids, item)"
   ]
  },
  {
   "cell_type": "code",
   "execution_count": 31,
   "metadata": {},
   "outputs": [
    {
     "name": "stderr",
     "output_type": "stream",
     "text": [
      "Downloading pytorch_model.bin: 100%|██████████| 251M/251M [02:09<00:00, 1.93MB/s]\n",
      "Downloading (…)neration_config.json: 100%|██████████| 137/137 [00:00<00:00, 14.5kB/s]\n",
      "Downloading (…)okenizer_config.json: 100%|██████████| 685/685 [00:00<00:00, 52.6kB/s]\n",
      "Downloading (…)olve/main/vocab.json: 100%|██████████| 899k/899k [00:00<00:00, 1.27MB/s]\n",
      "Downloading (…)olve/main/merges.txt: 100%|██████████| 456k/456k [00:00<00:00, 2.02MB/s]\n",
      "Downloading (…)cial_tokens_map.json: 100%|██████████| 441/441 [00:00<00:00, 55.0kB/s]\n"
     ]
    }
   ],
   "source": [
    "gpt_reranker = GPTReranker(config.model_name, config.use_cuda, max_len=512)"
   ]
  },
  {
   "cell_type": "code",
   "execution_count": null,
   "metadata": {},
   "outputs": [],
   "source": []
  },
  {
   "cell_type": "code",
   "execution_count": null,
   "metadata": {},
   "outputs": [],
   "source": [
    "def get_inputs(item, device, tokenizer):\n",
    "    input_ids = torch.tensor(['input_ids'], device=device).unsqueeze(0)\n",
    "    input_ids = tokenizer.decode()\n",
    "    input_ids, \n",
    "    token_type \n",
    "    attn_mask\n",
    "    "
   ]
  },
  {
   "cell_type": "code",
   "execution_count": null,
   "metadata": {},
   "outputs": [],
   "source": [
    "# top_results = torch.topk(scores, k=5).indices \n",
    "# reranked_corpus = [corpus[i] for i in top_results] \n",
    "\n",
    "# scored_articles = zip(articles, cosine_similarities)\n",
    "\n",
    "# # Sort articles by cosine similarity\n",
    "# sorted_articles = sorted(scored_articles, key=lambda x: x[1], reverse=True)\n",
    "\n",
    "# scores = []\n",
    "# https://github.com/amazon-science/datatuner/blob/f70369659e1c58e6ddb44d6db467978679dbdd3c/src/datatuner/lm/reranker.py#L5 \n",
    "\n",
    "# sorted(initial_results, key=lambda x: x.score or 0.0, reverse=True)[\n",
    "        #     : self.top_n\n",
    "        # ]\n"
   ]
  },
  {
   "cell_type": "code",
   "execution_count": null,
   "metadata": {},
   "outputs": [],
   "source": [
    "quantization_config = BitsAndBytesConfig(\n",
    "    load_in_4bit=True,\n",
    ")\n",
    "\n",
    "tokenizer = AutoTokenizer.from_pretrained(config.model)\n",
    "model = AutoModelForCausalLM.from_pretrained(config.model,\n",
    "                                             quantization_config=quantization_config,\n",
    "                                             trust_remote_code=True,)\n",
    "\n",
    "model.config.use_cache=True"
   ]
  },
  {
   "cell_type": "code",
   "execution_count": null,
   "metadata": {},
   "outputs": [],
   "source": [
    "peft_config = LoraConfig(\n",
    "    r=8,\n",
    "    lora_alpha=16,\n",
    "    lora_dropout=0.05,\n",
    "    target_modules = [\"q_proj\", \"v_proj\"],\n",
    "    inference_mode=False,\n",
    "    bias='none',\n",
    "    task_type='CAUSAL_LM',\n",
    ")\n",
    "\n",
    "model = get"
   ]
  }
 ],
 "metadata": {
  "kernelspec": {
   "display_name": "rerank",
   "language": "python",
   "name": "python3"
  },
  "language_info": {
   "codemirror_mode": {
    "name": "ipython",
    "version": 3
   },
   "file_extension": ".py",
   "mimetype": "text/x-python",
   "name": "python",
   "nbconvert_exporter": "python",
   "pygments_lexer": "ipython3",
   "version": "3.8.18"
  }
 },
 "nbformat": 4,
 "nbformat_minor": 2
}
